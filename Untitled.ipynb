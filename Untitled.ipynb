{
 "cells": [
  {
   "cell_type": "code",
   "execution_count": null,
   "id": "8606db21-281e-4316-8eb9-eee1ebe32bad",
   "metadata": {},
   "outputs": [],
   "source": [
    "def getProximityMetric(mean, Var, f_mean, f_var):\n",
    "#     mean row vect\n",
    "#     var nxn matrix\n",
    "#     f_mean and f_var scalars\n",
    "    ones = np.ones(mean.shape)\n",
    "    invVar = np.linalg.inv(Var)\n",
    "    a = ones.T @ invVar @ ones\n",
    "    b = ones.T @ invVar @ mean\n",
    "    c = mean.T @ invVar @ mean\n",
    "    sig_mv = 1/ np.sqrt(a)\n",
    "    mu_mv = b/a\n",
    "    v_as = np.sqrt((a*c - b*b)/a)\n",
    "    sig = np.sqrt(np.square(sig_mv) + np.square((f_mean - mu_mv)/v_as))\n",
    "    return sig/f_var\n",
    "\n",
    "    "
   ]
  }
 ],
 "metadata": {
  "kernelspec": {
   "display_name": "Python 3",
   "language": "python",
   "name": "python3"
  },
  "language_info": {
   "codemirror_mode": {
    "name": "ipython",
    "version": 3
   },
   "file_extension": ".py",
   "mimetype": "text/x-python",
   "name": "python",
   "nbconvert_exporter": "python",
   "pygments_lexer": "ipython3",
   "version": "3.7.10"
  }
 },
 "nbformat": 4,
 "nbformat_minor": 5
}

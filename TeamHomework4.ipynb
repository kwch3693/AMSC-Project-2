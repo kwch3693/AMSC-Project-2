{
 "cells": [
  {
   "cell_type": "code",
   "execution_count": 1,
   "id": "demonstrated-craps",
   "metadata": {},
   "outputs": [],
   "source": [
    "#!/usr/bin/env python\n",
    "\n",
    "import numpy as np\n",
    "import pandas as pd\n",
    "import datetime as dt\n",
    "import math\n"
   ]
  },
  {
   "cell_type": "code",
   "execution_count": 2,
   "id": "deluxe-cancellation",
   "metadata": {},
   "outputs": [],
   "source": [
    "def splitInToYears(df):\n",
    "    cols = df.columns\n",
    "    \n",
    "    df2016 = pd.DataFrame(columns = cols)\n",
    "    df2017 = pd.DataFrame(columns = cols)\n",
    "    df2018 = pd.DataFrame(columns = cols)\n",
    "    df2019 = pd.DataFrame(columns = cols)\n",
    "    df2020 = pd.DataFrame(columns = cols)\n",
    "\n",
    "    for index, row in df.iterrows():\n",
    "        if dt.datetime.strptime(df['Date'][index],'%Y-%m-%d').year == 2016:\n",
    "            df2016 = df2016.append(row,ignore_index=True)\n",
    "        if dt.datetime.strptime(df['Date'][index],'%Y-%m-%d').year == 2017:\n",
    "            df2017 = df2017.append(row,ignore_index=True)\n",
    "        if dt.datetime.strptime(df['Date'][index],'%Y-%m-%d').year == 2018:\n",
    "            df2018 = df2018.append(row,ignore_index=True)\n",
    "        if dt.datetime.strptime(df['Date'][index],'%Y-%m-%d').year == 2019:\n",
    "            df2019 = df2019.append(row,ignore_index=True)\n",
    "        if dt.datetime.strptime(df['Date'][index],'%Y-%m-%d').year == 2020:\n",
    "            df2020 = df2020.append(row,ignore_index=True)\n",
    "    return [df2016, df2017,df2018, df2019,df2020]\n",
    "\n",
    "## --- Estimator dataframes ---\n",
    "# returns array of dataframes split by year in accending order\n",
    "def calculateEstimators(dataframes):\n",
    "    estimators = []\n",
    "    assets = ['VFIAX', 'VBTLX', 'VGSLX', 'VIMAX', 'VSMAX', 'VGHCX', 'AMZN', 'WMT', 'CVS']\n",
    "    for df in dataframes:\n",
    "        data = df[df.columns[1:]]\n",
    "        uniformWeights = 1/data.shape[0]\n",
    "        \n",
    "        wBar = np.sum(np.square(np.ones(data.shape[0]) * uniformWeights))\n",
    "        \n",
    "        mean = np.array(np.sum(data, axis=0) * uniformWeights).reshape(-1,1)\n",
    "        difference = np.subtract(data , np.matmul(mean,np.ones((data.shape[0],1)).transpose()).transpose())\n",
    "        variance =  np.array(1/(1 - wBar) * np.sum(uniformWeights * np.square(difference), axis = 0)).reshape(-1,1)\n",
    "        StdOfExpectedValue = np.array(np.sqrt(wBar) * np.sqrt(variance)).reshape(-1,1)\n",
    "        \n",
    "        signalToNoise = np.absolute(np.array(mean/StdOfExpectedValue)).reshape(-1,1)\n",
    "        estimator = pd.DataFrame({\n",
    "                    'Expected Return': mean.reshape(-1,),\n",
    "                    'Variance Estimator': variance.reshape(-1,),\n",
    "                    'Std Dev Expected Return': StdOfExpectedValue.reshape(-1,),\n",
    "                    'Signal to Noise': signalToNoise.reshape(-1,)},\n",
    "                    index=assets)\n",
    "        estimators.append(estimator)\n",
    "    return estimators  \n",
    "# print(ExpectedReturn)\n"
   ]
  },
  {
   "cell_type": "code",
   "execution_count": 3,
   "id": "opened-benchmark",
   "metadata": {},
   "outputs": [],
   "source": [
    "\n",
    "## --- Data Wrangling ---\n",
    "\n",
    "# Group A\n",
    "VFIAX = pd.read_csv(\"Data/VFIAX.csv\")\n",
    "VFIAX.columns = ['Date','Open','High','Low','Close','VFIAX Close','Volume']\n",
    "VBTLX = pd.read_csv(\"Data/VBTLX.csv\")\n",
    "VBTLX.columns = ['Date','Open','High','Low','Close','VBTLX Close','Volume']\n",
    "VGSLX = pd.read_csv(\"Data/VGSLX.csv\")\n",
    "VGSLX.columns = ['Date','Open','High','Low','Close','VGSLX Close','Volume']\n",
    "\n",
    "# Group B\n",
    "VIMAX = pd.read_csv(\"Data/VIMAX.csv\")\n",
    "VIMAX.columns = ['Date','Open','High','Low','Close','VIMAX Close','Volume']\n",
    "VSMAX = pd.read_csv(\"Data/VSMAX.csv\")\n",
    "VSMAX.columns = ['Date','Open','High','Low','Close','VSMAX Close','Volume']\n",
    "VGHCX = pd.read_csv(\"Data/VGHCX.csv\")\n",
    "VGHCX.columns = ['Date','Open','High','Low','Close','VGHCX Close','Volume']\n",
    "\n",
    "# Group C\n",
    "AMZN = pd.read_csv(\"Data/AMZN.csv\")\n",
    "AMZN.columns = ['Date','Open','High','Low','Close','AMZN Close','Volume']\n",
    "WMT = pd.read_csv(\"Data/WMT.csv\")\n",
    "WMT.columns = ['Date','Open','High','Low','Close','WMT Close','Volume']\n",
    "CVS = pd.read_csv(\"Data/CVS.csv\")\n",
    "CVS.columns = ['Date','Open','High','Low','Close','CVS Close','Volume']\n"
   ]
  },
  {
   "cell_type": "code",
   "execution_count": 4,
   "id": "defensive-companion",
   "metadata": {},
   "outputs": [],
   "source": [
    "\n",
    "## --- Assemble -- code into a dataframe for Close of Day ---\n",
    "\n",
    "close = pd.concat([VFIAX['Date'], VFIAX['VFIAX Close'], VBTLX['VBTLX Close'], VGSLX['VGSLX Close'], VIMAX['VIMAX Close'], VSMAX['VSMAX Close'], VGHCX['VGHCX Close'], AMZN['AMZN Close'], WMT['WMT Close'], CVS['CVS Close'] ], axis=1)\n",
    "#print(close)\n",
    "\n",
    "## --- generate mean daily return ---\n",
    "\n",
    "dailyReturn = pd.DataFrame(columns = ['Date', 'VFIAX Daily Return','VBTLX Daily Return','VGSLX Daily Return', 'VIMAX Daily Return', 'VSMAX Daily Return', 'VGHCX Daily Return','AMZN Daily Return', 'WMT Daily Return','CVS Daily Return'])\n",
    "for index, row in close.iterrows():\n",
    "    if index == 0: continue\n",
    "    #print((close['VFIAX Close'][index] - close['VFIAX Close'][index-1])/ (close['VFIAX Close'][index-1]))\n",
    "    dailyReturn = dailyReturn.append({'Date': close['Date'][index],\n",
    "                'VFIAX Daily Return': ((close['VFIAX Close'][index] - close['VFIAX Close'][index-1])/(close['VFIAX Close'][index-1])),\n",
    "                'VBTLX Daily Return': ((close['VBTLX Close'][index] - close['VBTLX Close'][index-1])/(close['VBTLX Close'][index-1])),\n",
    "                'VGSLX Daily Return': ((close['VGSLX Close'][index] - close['VGSLX Close'][index-1])/(close['VGSLX Close'][index-1])),\n",
    "                'VIMAX Daily Return': ((close['VIMAX Close'][index] - close['VIMAX Close'][index-1])/(close['VIMAX Close'][index-1])),\n",
    "                'VSMAX Daily Return': ((close['VSMAX Close'][index] - close['VSMAX Close'][index-1])/(close['VSMAX Close'][index-1])),\n",
    "                'VGHCX Daily Return': ((close['VGHCX Close'][index] - close['VGHCX Close'][index-1])/(close['VGHCX Close'][index-1])),\n",
    "                'AMZN Daily Return': ((close['AMZN Close'][index] - close['AMZN Close'][index-1])/(close['AMZN Close'][index-1])),\n",
    "                'WMT Daily Return': ((close['WMT Close'][index] - close['WMT Close'][index-1])/(close['WMT Close'][index-1])),\n",
    "                'CVS Daily Return': ((close['CVS Close'][index] - close['CVS Close'][index-1])/(close['CVS Close'][index-1]))},ignore_index=True)\n",
    "\n"
   ]
  },
  {
   "source": [
    "## Exercise 1"
   ],
   "cell_type": "markdown",
   "metadata": {}
  },
  {
   "cell_type": "code",
   "execution_count": 14,
   "id": "offshore-transcript",
   "metadata": {},
   "outputs": [
    {
     "output_type": "display_data",
     "data": {
      "text/plain": "2016"
     },
     "metadata": {}
    },
    {
     "output_type": "display_data",
     "data": {
      "text/plain": "<pandas.io.formats.style.Styler at 0x290ec906a48>",
      "text/html": "<style  type=\"text/css\" >\n</style><table id=\"T_9c321126_90a3_11eb_84d9_f85971382ac4\" ><thead>    <tr>        <th class=\"blank level0\" ></th>        <th class=\"col_heading level0 col0\" >Expected Return</th>        <th class=\"col_heading level0 col1\" >Variance Estimator</th>        <th class=\"col_heading level0 col2\" >Std Dev Expected Return</th>        <th class=\"col_heading level0 col3\" >Signal to Noise</th>    </tr></thead><tbody>\n                <tr>\n                        <th id=\"T_9c321126_90a3_11eb_84d9_f85971382ac4level0_row0\" class=\"row_heading level0 row0\" >VSMAX</th>\n                        <td id=\"T_9c321126_90a3_11eb_84d9_f85971382ac4row0_col0\" class=\"data row0 col0\" >0.000723</td>\n                        <td id=\"T_9c321126_90a3_11eb_84d9_f85971382ac4row0_col1\" class=\"data row0 col1\" >0.000112</td>\n                        <td id=\"T_9c321126_90a3_11eb_84d9_f85971382ac4row0_col2\" class=\"data row0 col2\" >0.000666</td>\n                        <td id=\"T_9c321126_90a3_11eb_84d9_f85971382ac4row0_col3\" class=\"data row0 col3\" >1.085166</td>\n            </tr>\n            <tr>\n                        <th id=\"T_9c321126_90a3_11eb_84d9_f85971382ac4level0_row1\" class=\"row_heading level0 row1\" >VFIAX</th>\n                        <td id=\"T_9c321126_90a3_11eb_84d9_f85971382ac4row1_col0\" class=\"data row1 col0\" >0.000482</td>\n                        <td id=\"T_9c321126_90a3_11eb_84d9_f85971382ac4row1_col1\" class=\"data row1 col1\" >0.000068</td>\n                        <td id=\"T_9c321126_90a3_11eb_84d9_f85971382ac4row1_col2\" class=\"data row1 col2\" >0.000520</td>\n                        <td id=\"T_9c321126_90a3_11eb_84d9_f85971382ac4row1_col3\" class=\"data row1 col3\" >0.926836</td>\n            </tr>\n            <tr>\n                        <th id=\"T_9c321126_90a3_11eb_84d9_f85971382ac4level0_row2\" class=\"row_heading level0 row2\" >VGHCX</th>\n                        <td id=\"T_9c321126_90a3_11eb_84d9_f85971382ac4row2_col0\" class=\"data row2 col0\" >-0.000606</td>\n                        <td id=\"T_9c321126_90a3_11eb_84d9_f85971382ac4row2_col1\" class=\"data row2 col1\" >0.000111</td>\n                        <td id=\"T_9c321126_90a3_11eb_84d9_f85971382ac4row2_col2\" class=\"data row2 col2\" >0.000664</td>\n                        <td id=\"T_9c321126_90a3_11eb_84d9_f85971382ac4row2_col3\" class=\"data row2 col3\" >0.912577</td>\n            </tr>\n            <tr>\n                        <th id=\"T_9c321126_90a3_11eb_84d9_f85971382ac4level0_row3\" class=\"row_heading level0 row3\" >WMT</th>\n                        <td id=\"T_9c321126_90a3_11eb_84d9_f85971382ac4row3_col0\" class=\"data row3 col0\" >0.000663</td>\n                        <td id=\"T_9c321126_90a3_11eb_84d9_f85971382ac4row3_col1\" class=\"data row3 col1\" >0.000147</td>\n                        <td id=\"T_9c321126_90a3_11eb_84d9_f85971382ac4row3_col2\" class=\"data row3 col2\" >0.000764</td>\n                        <td id=\"T_9c321126_90a3_11eb_84d9_f85971382ac4row3_col3\" class=\"data row3 col3\" >0.866886</td>\n            </tr>\n            <tr>\n                        <th id=\"T_9c321126_90a3_11eb_84d9_f85971382ac4level0_row4\" class=\"row_heading level0 row4\" >CVS</th>\n                        <td id=\"T_9c321126_90a3_11eb_84d9_f85971382ac4row4_col0\" class=\"data row4 col0\" >-0.000682</td>\n                        <td id=\"T_9c321126_90a3_11eb_84d9_f85971382ac4row4_col1\" class=\"data row4 col1\" >0.000190</td>\n                        <td id=\"T_9c321126_90a3_11eb_84d9_f85971382ac4row4_col2\" class=\"data row4 col2\" >0.000867</td>\n                        <td id=\"T_9c321126_90a3_11eb_84d9_f85971382ac4row4_col3\" class=\"data row4 col3\" >0.786628</td>\n            </tr>\n            <tr>\n                        <th id=\"T_9c321126_90a3_11eb_84d9_f85971382ac4level0_row5\" class=\"row_heading level0 row5\" >VIMAX</th>\n                        <td id=\"T_9c321126_90a3_11eb_84d9_f85971382ac4row5_col0\" class=\"data row5 col0\" >0.000468</td>\n                        <td id=\"T_9c321126_90a3_11eb_84d9_f85971382ac4row5_col1\" class=\"data row5 col1\" >0.000092</td>\n                        <td id=\"T_9c321126_90a3_11eb_84d9_f85971382ac4row5_col2\" class=\"data row5 col2\" >0.000605</td>\n                        <td id=\"T_9c321126_90a3_11eb_84d9_f85971382ac4row5_col3\" class=\"data row5 col3\" >0.773408</td>\n            </tr>\n            <tr>\n                        <th id=\"T_9c321126_90a3_11eb_84d9_f85971382ac4level0_row6\" class=\"row_heading level0 row6\" >VBTLX</th>\n                        <td id=\"T_9c321126_90a3_11eb_84d9_f85971382ac4row6_col0\" class=\"data row6 col0\" >0.000103</td>\n                        <td id=\"T_9c321126_90a3_11eb_84d9_f85971382ac4row6_col1\" class=\"data row6 col1\" >0.000005</td>\n                        <td id=\"T_9c321126_90a3_11eb_84d9_f85971382ac4row6_col2\" class=\"data row6 col2\" >0.000142</td>\n                        <td id=\"T_9c321126_90a3_11eb_84d9_f85971382ac4row6_col3\" class=\"data row6 col3\" >0.726289</td>\n            </tr>\n            <tr>\n                        <th id=\"T_9c321126_90a3_11eb_84d9_f85971382ac4level0_row7\" class=\"row_heading level0 row7\" >VGSLX</th>\n                        <td id=\"T_9c321126_90a3_11eb_84d9_f85971382ac4row7_col0\" class=\"data row7 col0\" >0.000380</td>\n                        <td id=\"T_9c321126_90a3_11eb_84d9_f85971382ac4row7_col1\" class=\"data row7 col1\" >0.000115</td>\n                        <td id=\"T_9c321126_90a3_11eb_84d9_f85971382ac4row7_col2\" class=\"data row7 col2\" >0.000676</td>\n                        <td id=\"T_9c321126_90a3_11eb_84d9_f85971382ac4row7_col3\" class=\"data row7 col3\" >0.562157</td>\n            </tr>\n            <tr>\n                        <th id=\"T_9c321126_90a3_11eb_84d9_f85971382ac4level0_row8\" class=\"row_heading level0 row8\" >AMZN</th>\n                        <td id=\"T_9c321126_90a3_11eb_84d9_f85971382ac4row8_col0\" class=\"data row8 col0\" >0.000586</td>\n                        <td id=\"T_9c321126_90a3_11eb_84d9_f85971382ac4row8_col1\" class=\"data row8 col1\" >0.000350</td>\n                        <td id=\"T_9c321126_90a3_11eb_84d9_f85971382ac4row8_col2\" class=\"data row8 col2\" >0.001179</td>\n                        <td id=\"T_9c321126_90a3_11eb_84d9_f85971382ac4row8_col3\" class=\"data row8 col3\" >0.497363</td>\n            </tr>\n    </tbody></table>"
     },
     "metadata": {}
    },
    {
     "output_type": "display_data",
     "data": {
      "text/plain": "2017"
     },
     "metadata": {}
    },
    {
     "output_type": "display_data",
     "data": {
      "text/plain": "<pandas.io.formats.style.Styler at 0x290ec879fc8>",
      "text/html": "<style  type=\"text/css\" >\n</style><table id=\"T_9c33bea2_90a3_11eb_b4d0_f85971382ac4\" ><thead>    <tr>        <th class=\"blank level0\" ></th>        <th class=\"col_heading level0 col0\" >Expected Return</th>        <th class=\"col_heading level0 col1\" >Variance Estimator</th>        <th class=\"col_heading level0 col2\" >Std Dev Expected Return</th>        <th class=\"col_heading level0 col3\" >Signal to Noise</th>    </tr></thead><tbody>\n                <tr>\n                        <th id=\"T_9c33bea2_90a3_11eb_b4d0_f85971382ac4level0_row0\" class=\"row_heading level0 row0\" >VFIAX</th>\n                        <td id=\"T_9c33bea2_90a3_11eb_b4d0_f85971382ac4row0_col0\" class=\"data row0 col0\" >0.000794</td>\n                        <td id=\"T_9c33bea2_90a3_11eb_b4d0_f85971382ac4row0_col1\" class=\"data row0 col1\" >0.000018</td>\n                        <td id=\"T_9c33bea2_90a3_11eb_b4d0_f85971382ac4row0_col2\" class=\"data row0 col2\" >0.000266</td>\n                        <td id=\"T_9c33bea2_90a3_11eb_b4d0_f85971382ac4row0_col3\" class=\"data row0 col3\" >2.990815</td>\n            </tr>\n            <tr>\n                        <th id=\"T_9c33bea2_90a3_11eb_b4d0_f85971382ac4level0_row1\" class=\"row_heading level0 row1\" >VIMAX</th>\n                        <td id=\"T_9c33bea2_90a3_11eb_b4d0_f85971382ac4row1_col0\" class=\"data row1 col0\" >0.000714</td>\n                        <td id=\"T_9c33bea2_90a3_11eb_b4d0_f85971382ac4row1_col1\" class=\"data row1 col1\" >0.000024</td>\n                        <td id=\"T_9c33bea2_90a3_11eb_b4d0_f85971382ac4row1_col2\" class=\"data row1 col2\" >0.000311</td>\n                        <td id=\"T_9c33bea2_90a3_11eb_b4d0_f85971382ac4row1_col3\" class=\"data row1 col3\" >2.298355</td>\n            </tr>\n            <tr>\n                        <th id=\"T_9c33bea2_90a3_11eb_b4d0_f85971382ac4level0_row2\" class=\"row_heading level0 row2\" >AMZN</th>\n                        <td id=\"T_9c33bea2_90a3_11eb_b4d0_f85971382ac4row2_col0\" class=\"data row2 col0\" >0.001856</td>\n                        <td id=\"T_9c33bea2_90a3_11eb_b4d0_f85971382ac4row2_col1\" class=\"data row2 col1\" >0.000174</td>\n                        <td id=\"T_9c33bea2_90a3_11eb_b4d0_f85971382ac4row2_col2\" class=\"data row2 col2\" >0.000834</td>\n                        <td id=\"T_9c33bea2_90a3_11eb_b4d0_f85971382ac4row2_col3\" class=\"data row2 col3\" >2.226893</td>\n            </tr>\n            <tr>\n                        <th id=\"T_9c33bea2_90a3_11eb_b4d0_f85971382ac4level0_row3\" class=\"row_heading level0 row3\" >WMT</th>\n                        <td id=\"T_9c33bea2_90a3_11eb_b4d0_f85971382ac4row3_col0\" class=\"data row3 col0\" >0.001588</td>\n                        <td id=\"T_9c33bea2_90a3_11eb_b4d0_f85971382ac4row3_col1\" class=\"data row3 col1\" >0.000132</td>\n                        <td id=\"T_9c33bea2_90a3_11eb_b4d0_f85971382ac4row3_col2\" class=\"data row3 col2\" >0.000724</td>\n                        <td id=\"T_9c33bea2_90a3_11eb_b4d0_f85971382ac4row3_col3\" class=\"data row3 col3\" >2.193117</td>\n            </tr>\n            <tr>\n                        <th id=\"T_9c33bea2_90a3_11eb_b4d0_f85971382ac4level0_row4\" class=\"row_heading level0 row4\" >VSMAX</th>\n                        <td id=\"T_9c33bea2_90a3_11eb_b4d0_f85971382ac4row4_col0\" class=\"data row4 col0\" >0.000620</td>\n                        <td id=\"T_9c33bea2_90a3_11eb_b4d0_f85971382ac4row4_col1\" class=\"data row4 col1\" >0.000041</td>\n                        <td id=\"T_9c33bea2_90a3_11eb_b4d0_f85971382ac4row4_col2\" class=\"data row4 col2\" >0.000404</td>\n                        <td id=\"T_9c33bea2_90a3_11eb_b4d0_f85971382ac4row4_col3\" class=\"data row4 col3\" >1.534995</td>\n            </tr>\n            <tr>\n                        <th id=\"T_9c33bea2_90a3_11eb_b4d0_f85971382ac4level0_row5\" class=\"row_heading level0 row5\" >VGHCX</th>\n                        <td id=\"T_9c33bea2_90a3_11eb_b4d0_f85971382ac4row5_col0\" class=\"data row5 col0\" >0.000484</td>\n                        <td id=\"T_9c33bea2_90a3_11eb_b4d0_f85971382ac4row5_col1\" class=\"data row5 col1\" >0.000042</td>\n                        <td id=\"T_9c33bea2_90a3_11eb_b4d0_f85971382ac4row5_col2\" class=\"data row5 col2\" >0.000409</td>\n                        <td id=\"T_9c33bea2_90a3_11eb_b4d0_f85971382ac4row5_col3\" class=\"data row5 col3\" >1.183258</td>\n            </tr>\n            <tr>\n                        <th id=\"T_9c33bea2_90a3_11eb_b4d0_f85971382ac4level0_row6\" class=\"row_heading level0 row6\" >VBTLX</th>\n                        <td id=\"T_9c33bea2_90a3_11eb_b4d0_f85971382ac4row6_col0\" class=\"data row6 col0\" >0.000139</td>\n                        <td id=\"T_9c33bea2_90a3_11eb_b4d0_f85971382ac4row6_col1\" class=\"data row6 col1\" >0.000003</td>\n                        <td id=\"T_9c33bea2_90a3_11eb_b4d0_f85971382ac4row6_col2\" class=\"data row6 col2\" >0.000118</td>\n                        <td id=\"T_9c33bea2_90a3_11eb_b4d0_f85971382ac4row6_col3\" class=\"data row6 col3\" >1.180622</td>\n            </tr>\n            <tr>\n                        <th id=\"T_9c33bea2_90a3_11eb_b4d0_f85971382ac4level0_row7\" class=\"row_heading level0 row7\" >VGSLX</th>\n                        <td id=\"T_9c33bea2_90a3_11eb_b4d0_f85971382ac4row7_col0\" class=\"data row7 col0\" >0.000211</td>\n                        <td id=\"T_9c33bea2_90a3_11eb_b4d0_f85971382ac4row7_col1\" class=\"data row7 col1\" >0.000041</td>\n                        <td id=\"T_9c33bea2_90a3_11eb_b4d0_f85971382ac4row7_col2\" class=\"data row7 col2\" >0.000403</td>\n                        <td id=\"T_9c33bea2_90a3_11eb_b4d0_f85971382ac4row7_col3\" class=\"data row7 col3\" >0.524879</td>\n            </tr>\n            <tr>\n                        <th id=\"T_9c33bea2_90a3_11eb_b4d0_f85971382ac4level0_row8\" class=\"row_heading level0 row8\" >CVS</th>\n                        <td id=\"T_9c33bea2_90a3_11eb_b4d0_f85971382ac4row8_col0\" class=\"data row8 col0\" >-0.000142</td>\n                        <td id=\"T_9c33bea2_90a3_11eb_b4d0_f85971382ac4row8_col1\" class=\"data row8 col1\" >0.000188</td>\n                        <td id=\"T_9c33bea2_90a3_11eb_b4d0_f85971382ac4row8_col2\" class=\"data row8 col2\" >0.000865</td>\n                        <td id=\"T_9c33bea2_90a3_11eb_b4d0_f85971382ac4row8_col3\" class=\"data row8 col3\" >0.164112</td>\n            </tr>\n    </tbody></table>"
     },
     "metadata": {}
    },
    {
     "output_type": "display_data",
     "data": {
      "text/plain": "2018"
     },
     "metadata": {}
    },
    {
     "output_type": "display_data",
     "data": {
      "text/plain": "<pandas.io.formats.style.Styler at 0x290ecefea08>",
      "text/html": "<style  type=\"text/css\" >\n</style><table id=\"T_9c362fb6_90a3_11eb_bb2c_f85971382ac4\" ><thead>    <tr>        <th class=\"blank level0\" ></th>        <th class=\"col_heading level0 col0\" >Expected Return</th>        <th class=\"col_heading level0 col1\" >Variance Estimator</th>        <th class=\"col_heading level0 col2\" >Std Dev Expected Return</th>        <th class=\"col_heading level0 col3\" >Signal to Noise</th>    </tr></thead><tbody>\n                <tr>\n                        <th id=\"T_9c362fb6_90a3_11eb_bb2c_f85971382ac4level0_row0\" class=\"row_heading level0 row0\" >AMZN</th>\n                        <td id=\"T_9c362fb6_90a3_11eb_bb2c_f85971382ac4row0_col0\" class=\"data row0 col0\" >0.001256</td>\n                        <td id=\"T_9c362fb6_90a3_11eb_bb2c_f85971382ac4row0_col1\" class=\"data row0 col1\" >0.000517</td>\n                        <td id=\"T_9c362fb6_90a3_11eb_bb2c_f85971382ac4row0_col2\" class=\"data row0 col2\" >0.001436</td>\n                        <td id=\"T_9c362fb6_90a3_11eb_bb2c_f85971382ac4row0_col3\" class=\"data row0 col3\" >0.874591</td>\n            </tr>\n            <tr>\n                        <th id=\"T_9c362fb6_90a3_11eb_bb2c_f85971382ac4level0_row1\" class=\"row_heading level0 row1\" >VIMAX</th>\n                        <td id=\"T_9c362fb6_90a3_11eb_bb2c_f85971382ac4row1_col0\" class=\"data row1 col0\" >-0.000334</td>\n                        <td id=\"T_9c362fb6_90a3_11eb_bb2c_f85971382ac4row1_col1\" class=\"data row1 col1\" >0.000105</td>\n                        <td id=\"T_9c362fb6_90a3_11eb_bb2c_f85971382ac4row1_col2\" class=\"data row1 col2\" >0.000646</td>\n                        <td id=\"T_9c362fb6_90a3_11eb_bb2c_f85971382ac4row1_col3\" class=\"data row1 col3\" >0.516644</td>\n            </tr>\n            <tr>\n                        <th id=\"T_9c362fb6_90a3_11eb_bb2c_f85971382ac4level0_row2\" class=\"row_heading level0 row2\" >VSMAX</th>\n                        <td id=\"T_9c362fb6_90a3_11eb_bb2c_f85971382ac4row2_col0\" class=\"data row2 col0\" >-0.000333</td>\n                        <td id=\"T_9c362fb6_90a3_11eb_bb2c_f85971382ac4row2_col1\" class=\"data row2 col1\" >0.000114</td>\n                        <td id=\"T_9c362fb6_90a3_11eb_bb2c_f85971382ac4row2_col2\" class=\"data row2 col2\" >0.000673</td>\n                        <td id=\"T_9c362fb6_90a3_11eb_bb2c_f85971382ac4row2_col3\" class=\"data row2 col3\" >0.494679</td>\n            </tr>\n            <tr>\n                        <th id=\"T_9c362fb6_90a3_11eb_bb2c_f85971382ac4level0_row3\" class=\"row_heading level0 row3\" >VGSLX</th>\n                        <td id=\"T_9c362fb6_90a3_11eb_bb2c_f85971382ac4row3_col0\" class=\"data row3 col0\" >-0.000194</td>\n                        <td id=\"T_9c362fb6_90a3_11eb_bb2c_f85971382ac4row3_col1\" class=\"data row3 col1\" >0.000104</td>\n                        <td id=\"T_9c362fb6_90a3_11eb_bb2c_f85971382ac4row3_col2\" class=\"data row3 col2\" >0.000643</td>\n                        <td id=\"T_9c362fb6_90a3_11eb_bb2c_f85971382ac4row3_col3\" class=\"data row3 col3\" >0.302116</td>\n            </tr>\n            <tr>\n                        <th id=\"T_9c362fb6_90a3_11eb_bb2c_f85971382ac4level0_row4\" class=\"row_heading level0 row4\" >VGHCX</th>\n                        <td id=\"T_9c362fb6_90a3_11eb_bb2c_f85971382ac4row4_col0\" class=\"data row4 col0\" >-0.000201</td>\n                        <td id=\"T_9c362fb6_90a3_11eb_bb2c_f85971382ac4row4_col1\" class=\"data row4 col1\" >0.000112</td>\n                        <td id=\"T_9c362fb6_90a3_11eb_bb2c_f85971382ac4row4_col2\" class=\"data row4 col2\" >0.000669</td>\n                        <td id=\"T_9c362fb6_90a3_11eb_bb2c_f85971382ac4row4_col3\" class=\"data row4 col3\" >0.300567</td>\n            </tr>\n            <tr>\n                        <th id=\"T_9c362fb6_90a3_11eb_bb2c_f85971382ac4level0_row5\" class=\"row_heading level0 row5\" >VFIAX</th>\n                        <td id=\"T_9c362fb6_90a3_11eb_bb2c_f85971382ac4row5_col0\" class=\"data row5 col0\" >-0.000124</td>\n                        <td id=\"T_9c362fb6_90a3_11eb_bb2c_f85971382ac4row5_col1\" class=\"data row5 col1\" >0.000116</td>\n                        <td id=\"T_9c362fb6_90a3_11eb_bb2c_f85971382ac4row5_col2\" class=\"data row5 col2\" >0.000679</td>\n                        <td id=\"T_9c362fb6_90a3_11eb_bb2c_f85971382ac4row5_col3\" class=\"data row5 col3\" >0.182170</td>\n            </tr>\n            <tr>\n                        <th id=\"T_9c362fb6_90a3_11eb_bb2c_f85971382ac4level0_row6\" class=\"row_heading level0 row6\" >CVS</th>\n                        <td id=\"T_9c362fb6_90a3_11eb_bb2c_f85971382ac4row6_col0\" class=\"data row6 col0\" >-0.000122</td>\n                        <td id=\"T_9c362fb6_90a3_11eb_bb2c_f85971382ac4row6_col1\" class=\"data row6 col1\" >0.000337</td>\n                        <td id=\"T_9c362fb6_90a3_11eb_bb2c_f85971382ac4row6_col2\" class=\"data row6 col2\" >0.001159</td>\n                        <td id=\"T_9c362fb6_90a3_11eb_bb2c_f85971382ac4row6_col3\" class=\"data row6 col3\" >0.104945</td>\n            </tr>\n            <tr>\n                        <th id=\"T_9c362fb6_90a3_11eb_bb2c_f85971382ac4level0_row7\" class=\"row_heading level0 row7\" >WMT</th>\n                        <td id=\"T_9c362fb6_90a3_11eb_bb2c_f85971382ac4row7_col0\" class=\"data row7 col0\" >-0.000025</td>\n                        <td id=\"T_9c362fb6_90a3_11eb_bb2c_f85971382ac4row7_col1\" class=\"data row7 col1\" >0.000228</td>\n                        <td id=\"T_9c362fb6_90a3_11eb_bb2c_f85971382ac4row7_col2\" class=\"data row7 col2\" >0.000954</td>\n                        <td id=\"T_9c362fb6_90a3_11eb_bb2c_f85971382ac4row7_col3\" class=\"data row7 col3\" >0.026029</td>\n            </tr>\n            <tr>\n                        <th id=\"T_9c362fb6_90a3_11eb_bb2c_f85971382ac4level0_row8\" class=\"row_heading level0 row8\" >VBTLX</th>\n                        <td id=\"T_9c362fb6_90a3_11eb_bb2c_f85971382ac4row8_col0\" class=\"data row8 col0\" >0.000000</td>\n                        <td id=\"T_9c362fb6_90a3_11eb_bb2c_f85971382ac4row8_col1\" class=\"data row8 col1\" >0.000003</td>\n                        <td id=\"T_9c362fb6_90a3_11eb_bb2c_f85971382ac4row8_col2\" class=\"data row8 col2\" >0.000115</td>\n                        <td id=\"T_9c362fb6_90a3_11eb_bb2c_f85971382ac4row8_col3\" class=\"data row8 col3\" >0.002617</td>\n            </tr>\n    </tbody></table>"
     },
     "metadata": {}
    },
    {
     "output_type": "display_data",
     "data": {
      "text/plain": "2019"
     },
     "metadata": {}
    },
    {
     "output_type": "display_data",
     "data": {
      "text/plain": "<pandas.io.formats.style.Styler at 0x290ecf138c8>",
      "text/html": "<style  type=\"text/css\" >\n</style><table id=\"T_9c376828_90a3_11eb_bd0f_f85971382ac4\" ><thead>    <tr>        <th class=\"blank level0\" ></th>        <th class=\"col_heading level0 col0\" >Expected Return</th>        <th class=\"col_heading level0 col1\" >Variance Estimator</th>        <th class=\"col_heading level0 col2\" >Std Dev Expected Return</th>        <th class=\"col_heading level0 col3\" >Signal to Noise</th>    </tr></thead><tbody>\n                <tr>\n                        <th id=\"T_9c376828_90a3_11eb_bd0f_f85971382ac4level0_row0\" class=\"row_heading level0 row0\" >VBTLX</th>\n                        <td id=\"T_9c376828_90a3_11eb_bd0f_f85971382ac4row0_col0\" class=\"data row0 col0\" >0.000335</td>\n                        <td id=\"T_9c376828_90a3_11eb_bd0f_f85971382ac4row0_col1\" class=\"data row0 col1\" >0.000005</td>\n                        <td id=\"T_9c376828_90a3_11eb_bd0f_f85971382ac4row0_col2\" class=\"data row0 col2\" >0.000141</td>\n                        <td id=\"T_9c376828_90a3_11eb_bd0f_f85971382ac4row0_col3\" class=\"data row0 col3\" >2.373610</td>\n            </tr>\n            <tr>\n                        <th id=\"T_9c376828_90a3_11eb_bd0f_f85971382ac4level0_row1\" class=\"row_heading level0 row1\" >VFIAX</th>\n                        <td id=\"T_9c376828_90a3_11eb_bd0f_f85971382ac4row1_col0\" class=\"data row1 col0\" >0.001117</td>\n                        <td id=\"T_9c376828_90a3_11eb_bd0f_f85971382ac4row1_col1\" class=\"data row1 col1\" >0.000062</td>\n                        <td id=\"T_9c376828_90a3_11eb_bd0f_f85971382ac4row1_col2\" class=\"data row1 col2\" >0.000495</td>\n                        <td id=\"T_9c376828_90a3_11eb_bd0f_f85971382ac4row1_col3\" class=\"data row1 col3\" >2.257628</td>\n            </tr>\n            <tr>\n                        <th id=\"T_9c376828_90a3_11eb_bd0f_f85971382ac4level0_row2\" class=\"row_heading level0 row2\" >VIMAX</th>\n                        <td id=\"T_9c376828_90a3_11eb_bd0f_f85971382ac4row2_col0\" class=\"data row2 col0\" >0.001105</td>\n                        <td id=\"T_9c376828_90a3_11eb_bd0f_f85971382ac4row2_col1\" class=\"data row2 col1\" >0.000065</td>\n                        <td id=\"T_9c376828_90a3_11eb_bd0f_f85971382ac4row2_col2\" class=\"data row2 col2\" >0.000506</td>\n                        <td id=\"T_9c376828_90a3_11eb_bd0f_f85971382ac4row2_col3\" class=\"data row2 col3\" >2.183200</td>\n            </tr>\n            <tr>\n                        <th id=\"T_9c376828_90a3_11eb_bd0f_f85971382ac4level0_row3\" class=\"row_heading level0 row3\" >VGSLX</th>\n                        <td id=\"T_9c376828_90a3_11eb_bd0f_f85971382ac4row3_col0\" class=\"data row3 col0\" >0.001037</td>\n                        <td id=\"T_9c376828_90a3_11eb_bd0f_f85971382ac4row3_col1\" class=\"data row3 col1\" >0.000059</td>\n                        <td id=\"T_9c376828_90a3_11eb_bd0f_f85971382ac4row3_col2\" class=\"data row3 col2\" >0.000484</td>\n                        <td id=\"T_9c376828_90a3_11eb_bd0f_f85971382ac4row3_col3\" class=\"data row3 col3\" >2.142270</td>\n            </tr>\n            <tr>\n                        <th id=\"T_9c376828_90a3_11eb_bd0f_f85971382ac4level0_row4\" class=\"row_heading level0 row4\" >WMT</th>\n                        <td id=\"T_9c376828_90a3_11eb_bd0f_f85971382ac4row4_col0\" class=\"data row4 col0\" >0.001087</td>\n                        <td id=\"T_9c376828_90a3_11eb_bd0f_f85971382ac4row4_col1\" class=\"data row4 col1\" >0.000082</td>\n                        <td id=\"T_9c376828_90a3_11eb_bd0f_f85971382ac4row4_col2\" class=\"data row4 col2\" >0.000570</td>\n                        <td id=\"T_9c376828_90a3_11eb_bd0f_f85971382ac4row4_col3\" class=\"data row4 col3\" >1.906907</td>\n            </tr>\n            <tr>\n                        <th id=\"T_9c376828_90a3_11eb_bd0f_f85971382ac4level0_row5\" class=\"row_heading level0 row5\" >VSMAX</th>\n                        <td id=\"T_9c376828_90a3_11eb_bd0f_f85971382ac4row5_col0\" class=\"data row5 col0\" >0.001003</td>\n                        <td id=\"T_9c376828_90a3_11eb_bd0f_f85971382ac4row5_col1\" class=\"data row5 col1\" >0.000085</td>\n                        <td id=\"T_9c376828_90a3_11eb_bd0f_f85971382ac4row5_col2\" class=\"data row5 col2\" >0.000581</td>\n                        <td id=\"T_9c376828_90a3_11eb_bd0f_f85971382ac4row5_col3\" class=\"data row5 col3\" >1.725868</td>\n            </tr>\n            <tr>\n                        <th id=\"T_9c376828_90a3_11eb_bd0f_f85971382ac4level0_row6\" class=\"row_heading level0 row6\" >AMZN</th>\n                        <td id=\"T_9c376828_90a3_11eb_bd0f_f85971382ac4row6_col0\" class=\"data row6 col0\" >0.000926</td>\n                        <td id=\"T_9c376828_90a3_11eb_bd0f_f85971382ac4row6_col1\" class=\"data row6 col1\" >0.000208</td>\n                        <td id=\"T_9c376828_90a3_11eb_bd0f_f85971382ac4row6_col2\" class=\"data row6 col2\" >0.000909</td>\n                        <td id=\"T_9c376828_90a3_11eb_bd0f_f85971382ac4row6_col3\" class=\"data row6 col3\" >1.019067</td>\n            </tr>\n            <tr>\n                        <th id=\"T_9c376828_90a3_11eb_bd0f_f85971382ac4level0_row7\" class=\"row_heading level0 row7\" >CVS</th>\n                        <td id=\"T_9c376828_90a3_11eb_bd0f_f85971382ac4row7_col0\" class=\"data row7 col0\" >0.000762</td>\n                        <td id=\"T_9c376828_90a3_11eb_bd0f_f85971382ac4row7_col1\" class=\"data row7 col1\" >0.000261</td>\n                        <td id=\"T_9c376828_90a3_11eb_bd0f_f85971382ac4row7_col2\" class=\"data row7 col2\" >0.001018</td>\n                        <td id=\"T_9c376828_90a3_11eb_bd0f_f85971382ac4row7_col3\" class=\"data row7 col3\" >0.748512</td>\n            </tr>\n            <tr>\n                        <th id=\"T_9c376828_90a3_11eb_bd0f_f85971382ac4level0_row8\" class=\"row_heading level0 row8\" >VGHCX</th>\n                        <td id=\"T_9c376828_90a3_11eb_bd0f_f85971382ac4row8_col0\" class=\"data row8 col0\" >0.000443</td>\n                        <td id=\"T_9c376828_90a3_11eb_bd0f_f85971382ac4row8_col1\" class=\"data row8 col1\" >0.000092</td>\n                        <td id=\"T_9c376828_90a3_11eb_bd0f_f85971382ac4row8_col2\" class=\"data row8 col2\" >0.000605</td>\n                        <td id=\"T_9c376828_90a3_11eb_bd0f_f85971382ac4row8_col3\" class=\"data row8 col3\" >0.731791</td>\n            </tr>\n    </tbody></table>"
     },
     "metadata": {}
    },
    {
     "output_type": "display_data",
     "data": {
      "text/plain": "2020"
     },
     "metadata": {}
    },
    {
     "output_type": "display_data",
     "data": {
      "text/plain": "<pandas.io.formats.style.Styler at 0x290ecf27248>",
      "text/html": "<style  type=\"text/css\" >\n</style><table id=\"T_9c395eb0_90a3_11eb_8346_f85971382ac4\" ><thead>    <tr>        <th class=\"blank level0\" ></th>        <th class=\"col_heading level0 col0\" >Expected Return</th>        <th class=\"col_heading level0 col1\" >Variance Estimator</th>        <th class=\"col_heading level0 col2\" >Std Dev Expected Return</th>        <th class=\"col_heading level0 col3\" >Signal to Noise</th>    </tr></thead><tbody>\n                <tr>\n                        <th id=\"T_9c395eb0_90a3_11eb_8346_f85971382ac4level0_row0\" class=\"row_heading level0 row0\" >AMZN</th>\n                        <td id=\"T_9c395eb0_90a3_11eb_8346_f85971382ac4row0_col0\" class=\"data row0 col0\" >0.002535</td>\n                        <td id=\"T_9c395eb0_90a3_11eb_8346_f85971382ac4row0_col1\" class=\"data row0 col1\" >0.000589</td>\n                        <td id=\"T_9c395eb0_90a3_11eb_8346_f85971382ac4row0_col2\" class=\"data row0 col2\" >0.001525</td>\n                        <td id=\"T_9c395eb0_90a3_11eb_8346_f85971382ac4row0_col3\" class=\"data row0 col3\" >1.661972</td>\n            </tr>\n            <tr>\n                        <th id=\"T_9c395eb0_90a3_11eb_8346_f85971382ac4level0_row1\" class=\"row_heading level0 row1\" >VBTLX</th>\n                        <td id=\"T_9c395eb0_90a3_11eb_8346_f85971382ac4row1_col0\" class=\"data row1 col0\" >0.000293</td>\n                        <td id=\"T_9c395eb0_90a3_11eb_8346_f85971382ac4row1_col1\" class=\"data row1 col1\" >0.000010</td>\n                        <td id=\"T_9c395eb0_90a3_11eb_8346_f85971382ac4row1_col2\" class=\"data row1 col2\" >0.000195</td>\n                        <td id=\"T_9c395eb0_90a3_11eb_8346_f85971382ac4row1_col3\" class=\"data row1 col3\" >1.502099</td>\n            </tr>\n            <tr>\n                        <th id=\"T_9c395eb0_90a3_11eb_8346_f85971382ac4level0_row2\" class=\"row_heading level0 row2\" >WMT</th>\n                        <td id=\"T_9c395eb0_90a3_11eb_8346_f85971382ac4row2_col0\" class=\"data row2 col0\" >0.001022</td>\n                        <td id=\"T_9c395eb0_90a3_11eb_8346_f85971382ac4row2_col1\" class=\"data row2 col1\" >0.000394</td>\n                        <td id=\"T_9c395eb0_90a3_11eb_8346_f85971382ac4row2_col2\" class=\"data row2 col2\" >0.001247</td>\n                        <td id=\"T_9c395eb0_90a3_11eb_8346_f85971382ac4row2_col3\" class=\"data row2 col3\" >0.819413</td>\n            </tr>\n            <tr>\n                        <th id=\"T_9c395eb0_90a3_11eb_8346_f85971382ac4level0_row3\" class=\"row_heading level0 row3\" >VFIAX</th>\n                        <td id=\"T_9c395eb0_90a3_11eb_8346_f85971382ac4row3_col0\" class=\"data row3 col0\" >0.000902</td>\n                        <td id=\"T_9c395eb0_90a3_11eb_8346_f85971382ac4row3_col1\" class=\"data row3 col1\" >0.000470</td>\n                        <td id=\"T_9c395eb0_90a3_11eb_8346_f85971382ac4row3_col2\" class=\"data row3 col2\" >0.001364</td>\n                        <td id=\"T_9c395eb0_90a3_11eb_8346_f85971382ac4row3_col3\" class=\"data row3 col3\" >0.661107</td>\n            </tr>\n            <tr>\n                        <th id=\"T_9c395eb0_90a3_11eb_8346_f85971382ac4level0_row4\" class=\"row_heading level0 row4\" >VIMAX</th>\n                        <td id=\"T_9c395eb0_90a3_11eb_8346_f85971382ac4row4_col0\" class=\"data row4 col0\" >0.000925</td>\n                        <td id=\"T_9c395eb0_90a3_11eb_8346_f85971382ac4row4_col1\" class=\"data row4 col1\" >0.000524</td>\n                        <td id=\"T_9c395eb0_90a3_11eb_8346_f85971382ac4row4_col2\" class=\"data row4 col2\" >0.001439</td>\n                        <td id=\"T_9c395eb0_90a3_11eb_8346_f85971382ac4row4_col3\" class=\"data row4 col3\" >0.642574</td>\n            </tr>\n            <tr>\n                        <th id=\"T_9c395eb0_90a3_11eb_8346_f85971382ac4level0_row5\" class=\"row_heading level0 row5\" >VSMAX</th>\n                        <td id=\"T_9c395eb0_90a3_11eb_8346_f85971382ac4row5_col0\" class=\"data row5 col0\" >0.001010</td>\n                        <td id=\"T_9c395eb0_90a3_11eb_8346_f85971382ac4row5_col1\" class=\"data row5 col1\" >0.000631</td>\n                        <td id=\"T_9c395eb0_90a3_11eb_8346_f85971382ac4row5_col2\" class=\"data row5 col2\" >0.001579</td>\n                        <td id=\"T_9c395eb0_90a3_11eb_8346_f85971382ac4row5_col3\" class=\"data row5 col3\" >0.639748</td>\n            </tr>\n            <tr>\n                        <th id=\"T_9c395eb0_90a3_11eb_8346_f85971382ac4level0_row6\" class=\"row_heading level0 row6\" >VGHCX</th>\n                        <td id=\"T_9c395eb0_90a3_11eb_8346_f85971382ac4row6_col0\" class=\"data row6 col0\" >0.000334</td>\n                        <td id=\"T_9c395eb0_90a3_11eb_8346_f85971382ac4row6_col1\" class=\"data row6 col1\" >0.000320</td>\n                        <td id=\"T_9c395eb0_90a3_11eb_8346_f85971382ac4row6_col2\" class=\"data row6 col2\" >0.001124</td>\n                        <td id=\"T_9c395eb0_90a3_11eb_8346_f85971382ac4row6_col3\" class=\"data row6 col3\" >0.296806</td>\n            </tr>\n            <tr>\n                        <th id=\"T_9c395eb0_90a3_11eb_8346_f85971382ac4level0_row7\" class=\"row_heading level0 row7\" >VGSLX</th>\n                        <td id=\"T_9c395eb0_90a3_11eb_8346_f85971382ac4row7_col0\" class=\"data row7 col0\" >0.000173</td>\n                        <td id=\"T_9c395eb0_90a3_11eb_8346_f85971382ac4row7_col1\" class=\"data row7 col1\" >0.000714</td>\n                        <td id=\"T_9c395eb0_90a3_11eb_8346_f85971382ac4row7_col2\" class=\"data row7 col2\" >0.001680</td>\n                        <td id=\"T_9c395eb0_90a3_11eb_8346_f85971382ac4row7_col3\" class=\"data row7 col3\" >0.102886</td>\n            </tr>\n            <tr>\n                        <th id=\"T_9c395eb0_90a3_11eb_8346_f85971382ac4level0_row8\" class=\"row_heading level0 row8\" >CVS</th>\n                        <td id=\"T_9c395eb0_90a3_11eb_8346_f85971382ac4row8_col0\" class=\"data row8 col0\" >0.000101</td>\n                        <td id=\"T_9c395eb0_90a3_11eb_8346_f85971382ac4row8_col1\" class=\"data row8 col1\" >0.000619</td>\n                        <td id=\"T_9c395eb0_90a3_11eb_8346_f85971382ac4row8_col2\" class=\"data row8 col2\" >0.001564</td>\n                        <td id=\"T_9c395eb0_90a3_11eb_8346_f85971382ac4row8_col3\" class=\"data row8 col3\" >0.064797</td>\n            </tr>\n    </tbody></table>"
     },
     "metadata": {}
    }
   ],
   "source": [
    "dailyReturnsOverTimespan = splitInToYears(dailyReturn)\n",
    "estimators = calculateEstimators(dailyReturnsOverTimespan)\n",
    "\n",
    "for years_after_2016, estimator in enumerate(estimators):\n",
    "    display(2016 + years_after_2016, estimator.sort_values(by='Signal to Noise', axis=0, ascending=False).style)"
   ]
  },
  {
   "source": [
    "## 2016:\n",
    "\n",
    "VSMAX: After dipping from 60 to 46 in the second half of 2015, VSMAX saw consistent growth throughout 2016 growing back to 60. The general trend was upwards and constant, leading to the highest expected return and relatively small volatility resulting in a higher signal to noise ratio.\n",
    "\n",
    "VFIAX: After seeing a sharp dip to start the year, the fund steadily grew throughout the year, climbing 30 dollars in a steady manner. This resulted in a similar situation to VSMAX, however the volatility of expected return was slightly larger than the expected return.\n",
    "\n",
    "VGSLX: Saw rapid growth for the first half of the year, climbing nearly 30% and declined over the second half of the year. The expected return was the lowest in magnitude of all the funds besides the bonds and it had the highest volatility of all the funds, giving it the second smallest SNR.\n",
    "\n",
    "AMZN: Trended downward in closing prices in the first half of 2016 then recovered in the latter half of 2016. As a result it had the highest variance in returns, thus lowested signal to noise.\n",
    "\n",
    "The rest of the assets behaved relatively similarly to VFIAX, seeing a SNR of roughly between 0.7-0.9. CVS and VGHCX were the two assets with negative expected returns.\n",
    "\n",
    "## 2017: \n",
    "\n",
    "VFIAX: Even steadier growth was seen continuing from 2016 leading to an even smaller value for volatility and a larger expected return.\n",
    "\n",
    "AMZN/WMT: Saw very high expected returns that ‘overpowered’ the high volatility seen over the year. Both companies saw their stock price increase nearly 50% on the year, associated with sharp rises that explained the higher volatility.\n",
    "\n",
    "CVS: Consistently saw the stock price increase and dip by large quantities each month and overall ended the year down. The volatility was the highest of all assets and it saw one of the smallest expected returns leading to the lowest SNR. \n",
    "\n",
    "VGSLX: Similarly saw consistent price fluctuations however in a smaller range (114-121) and ended the year near where it started, meaning low ER and relatively high volatility.\n",
    "\n",
    "As the market did exceptionally well, the rest of the funds similarly saw large growth and low volatility and the rest of the funds had SNR of >1\n",
    "\n",
    "## 2018:\n",
    "\n",
    "The trade war affected all the stocks, leading to a negative return for the year in many cases and high volatility when compared to the other years. The expected return was small in magnitude due to the gains made in the first half of the year being erased by the dip at the end of the year.\n",
    "\n",
    "AMZN: Their sharp rise in the first half of the year meant that even though they were harshly affected by the trade war as well, they ended the year positive. This higher expected return allowed them to have the highest SNR even with the highest volatility\n",
    "\n",
    "## 2019:\n",
    "\n",
    "VGHCX/CVS: Sharp rises as well as declines lead to a small expected return and a relatively high volatility = small SNR. Healthcare related saw a dip Q1 2019\n",
    "\n",
    "Amazon was an outlier for higher growth during much of the recovery and corrected to the rest of the group leading to a different spot in the order. \n",
    "\n",
    "Rest of companies having steady recovery from trade war, all within a very tight grouping for the majority of the year.\n",
    "\n",
    "## 2020:\n",
    "\n",
    "AMZN, VBTLX, WMT were not hit very hard by the 2020 Coronavirus crash, with AMZN skyrocketing because of the crash, VBTLX staying flat for the duration, and Walmart staying in a steady uptrend.\n",
    "\n",
    "VFIAX, VIMAX, VSMAX were hit hard during the corona crash but quickly recovered along with the rest of the overall stock market, but then continued upwards after the crash to higher than the pre crash high.\n",
    "\n",
    "VGHCX, VGSLX, CVS these companies were hit by the corona crash but unlike the companies above they did not grow past their prior peaks \n",
    "\n"
   ],
   "cell_type": "markdown",
   "metadata": {}
  },
  {
   "source": [
    "## Exercise 2"
   ],
   "cell_type": "markdown",
   "metadata": {}
  },
  {
   "cell_type": "code",
   "execution_count": 17,
   "id": "elder-architect",
   "metadata": {},
   "outputs": [
    {
     "output_type": "display_data",
     "data": {
      "text/plain": "2016"
     },
     "metadata": {}
    },
    {
     "output_type": "display_data",
     "data": {
      "text/plain": "<pandas.io.formats.style.Styler at 0x290e8415088>",
      "text/html": "<style  type=\"text/css\" >\n</style><table id=\"T_87143012_90ae_11eb_9101_f85971382ac4\" ><thead>    <tr>        <th class=\"blank level0\" ></th>        <th class=\"col_heading level0 col0\" >Expected Return</th>        <th class=\"col_heading level0 col1\" >Variance Estimator</th>        <th class=\"col_heading level0 col2\" >Std Dev Expected Return</th>        <th class=\"col_heading level0 col3\" >Signal to Noise</th>    </tr></thead><tbody>\n                <tr>\n                        <th id=\"T_87143012_90ae_11eb_9101_f85971382ac4level0_row0\" class=\"row_heading level0 row0\" >VSMAX</th>\n                        <td id=\"T_87143012_90ae_11eb_9101_f85971382ac4row0_col0\" class=\"data row0 col0\" >0.000667</td>\n                        <td id=\"T_87143012_90ae_11eb_9101_f85971382ac4row0_col1\" class=\"data row0 col1\" >0.000112</td>\n                        <td id=\"T_87143012_90ae_11eb_9101_f85971382ac4row0_col2\" class=\"data row0 col2\" >0.000667</td>\n                        <td id=\"T_87143012_90ae_11eb_9101_f85971382ac4row0_col3\" class=\"data row0 col3\" >0.999493</td>\n            </tr>\n            <tr>\n                        <th id=\"T_87143012_90ae_11eb_9101_f85971382ac4level0_row1\" class=\"row_heading level0 row1\" >VGHCX</th>\n                        <td id=\"T_87143012_90ae_11eb_9101_f85971382ac4row1_col0\" class=\"data row1 col0\" >-0.000661</td>\n                        <td id=\"T_87143012_90ae_11eb_9101_f85971382ac4row1_col1\" class=\"data row1 col1\" >0.000111</td>\n                        <td id=\"T_87143012_90ae_11eb_9101_f85971382ac4row1_col2\" class=\"data row1 col2\" >0.000664</td>\n                        <td id=\"T_87143012_90ae_11eb_9101_f85971382ac4row1_col3\" class=\"data row1 col3\" >0.994955</td>\n            </tr>\n            <tr>\n                        <th id=\"T_87143012_90ae_11eb_9101_f85971382ac4level0_row2\" class=\"row_heading level0 row2\" >CVS</th>\n                        <td id=\"T_87143012_90ae_11eb_9101_f85971382ac4row2_col0\" class=\"data row2 col0\" >-0.000779</td>\n                        <td id=\"T_87143012_90ae_11eb_9101_f85971382ac4row2_col1\" class=\"data row2 col1\" >0.000197</td>\n                        <td id=\"T_87143012_90ae_11eb_9101_f85971382ac4row2_col2\" class=\"data row2 col2\" >0.000884</td>\n                        <td id=\"T_87143012_90ae_11eb_9101_f85971382ac4row2_col3\" class=\"data row2 col3\" >0.881306</td>\n            </tr>\n            <tr>\n                        <th id=\"T_87143012_90ae_11eb_9101_f85971382ac4level0_row3\" class=\"row_heading level0 row3\" >VFIAX</th>\n                        <td id=\"T_87143012_90ae_11eb_9101_f85971382ac4row3_col0\" class=\"data row3 col0\" >0.000448</td>\n                        <td id=\"T_87143012_90ae_11eb_9101_f85971382ac4row3_col1\" class=\"data row3 col1\" >0.000068</td>\n                        <td id=\"T_87143012_90ae_11eb_9101_f85971382ac4row3_col2\" class=\"data row3 col2\" >0.000520</td>\n                        <td id=\"T_87143012_90ae_11eb_9101_f85971382ac4row3_col3\" class=\"data row3 col3\" >0.860266</td>\n            </tr>\n            <tr>\n                        <th id=\"T_87143012_90ae_11eb_9101_f85971382ac4level0_row4\" class=\"row_heading level0 row4\" >WMT</th>\n                        <td id=\"T_87143012_90ae_11eb_9101_f85971382ac4row4_col0\" class=\"data row4 col0\" >0.000590</td>\n                        <td id=\"T_87143012_90ae_11eb_9101_f85971382ac4row4_col1\" class=\"data row4 col1\" >0.000145</td>\n                        <td id=\"T_87143012_90ae_11eb_9101_f85971382ac4row4_col2\" class=\"data row4 col2\" >0.000758</td>\n                        <td id=\"T_87143012_90ae_11eb_9101_f85971382ac4row4_col3\" class=\"data row4 col3\" >0.778840</td>\n            </tr>\n            <tr>\n                        <th id=\"T_87143012_90ae_11eb_9101_f85971382ac4level0_row5\" class=\"row_heading level0 row5\" >VBTLX</th>\n                        <td id=\"T_87143012_90ae_11eb_9101_f85971382ac4row5_col0\" class=\"data row5 col0\" >0.000100</td>\n                        <td id=\"T_87143012_90ae_11eb_9101_f85971382ac4row5_col1\" class=\"data row5 col1\" >0.000005</td>\n                        <td id=\"T_87143012_90ae_11eb_9101_f85971382ac4row5_col2\" class=\"data row5 col2\" >0.000142</td>\n                        <td id=\"T_87143012_90ae_11eb_9101_f85971382ac4row5_col3\" class=\"data row5 col3\" >0.708404</td>\n            </tr>\n            <tr>\n                        <th id=\"T_87143012_90ae_11eb_9101_f85971382ac4level0_row6\" class=\"row_heading level0 row6\" >VIMAX</th>\n                        <td id=\"T_87143012_90ae_11eb_9101_f85971382ac4row6_col0\" class=\"data row6 col0\" >0.000422</td>\n                        <td id=\"T_87143012_90ae_11eb_9101_f85971382ac4row6_col1\" class=\"data row6 col1\" >0.000093</td>\n                        <td id=\"T_87143012_90ae_11eb_9101_f85971382ac4row6_col2\" class=\"data row6 col2\" >0.000607</td>\n                        <td id=\"T_87143012_90ae_11eb_9101_f85971382ac4row6_col3\" class=\"data row6 col3\" >0.695569</td>\n            </tr>\n            <tr>\n                        <th id=\"T_87143012_90ae_11eb_9101_f85971382ac4level0_row7\" class=\"row_heading level0 row7\" >VGSLX</th>\n                        <td id=\"T_87143012_90ae_11eb_9101_f85971382ac4row7_col0\" class=\"data row7 col0\" >0.000323</td>\n                        <td id=\"T_87143012_90ae_11eb_9101_f85971382ac4row7_col1\" class=\"data row7 col1\" >0.000116</td>\n                        <td id=\"T_87143012_90ae_11eb_9101_f85971382ac4row7_col2\" class=\"data row7 col2\" >0.000677</td>\n                        <td id=\"T_87143012_90ae_11eb_9101_f85971382ac4row7_col3\" class=\"data row7 col3\" >0.476212</td>\n            </tr>\n            <tr>\n                        <th id=\"T_87143012_90ae_11eb_9101_f85971382ac4level0_row8\" class=\"row_heading level0 row8\" >AMZN</th>\n                        <td id=\"T_87143012_90ae_11eb_9101_f85971382ac4row8_col0\" class=\"data row8 col0\" >0.000412</td>\n                        <td id=\"T_87143012_90ae_11eb_9101_f85971382ac4row8_col1\" class=\"data row8 col1\" >0.000349</td>\n                        <td id=\"T_87143012_90ae_11eb_9101_f85971382ac4row8_col2\" class=\"data row8 col2\" >0.001177</td>\n                        <td id=\"T_87143012_90ae_11eb_9101_f85971382ac4row8_col3\" class=\"data row8 col3\" >0.350242</td>\n            </tr>\n    </tbody></table>"
     },
     "metadata": {}
    },
    {
     "output_type": "display_data",
     "data": {
      "text/plain": "2017"
     },
     "metadata": {}
    },
    {
     "output_type": "display_data",
     "data": {
      "text/plain": "<pandas.io.formats.style.Styler at 0x290ecf29248>",
      "text/html": "<style  type=\"text/css\" >\n</style><table id=\"T_871679de_90ae_11eb_bb78_f85971382ac4\" ><thead>    <tr>        <th class=\"blank level0\" ></th>        <th class=\"col_heading level0 col0\" >Expected Return</th>        <th class=\"col_heading level0 col1\" >Variance Estimator</th>        <th class=\"col_heading level0 col2\" >Std Dev Expected Return</th>        <th class=\"col_heading level0 col3\" >Signal to Noise</th>    </tr></thead><tbody>\n                <tr>\n                        <th id=\"T_871679de_90ae_11eb_bb78_f85971382ac4level0_row0\" class=\"row_heading level0 row0\" >VFIAX</th>\n                        <td id=\"T_871679de_90ae_11eb_bb78_f85971382ac4row0_col0\" class=\"data row0 col0\" >0.000785</td>\n                        <td id=\"T_871679de_90ae_11eb_bb78_f85971382ac4row0_col1\" class=\"data row0 col1\" >0.000018</td>\n                        <td id=\"T_871679de_90ae_11eb_bb78_f85971382ac4row0_col2\" class=\"data row0 col2\" >0.000266</td>\n                        <td id=\"T_871679de_90ae_11eb_bb78_f85971382ac4row0_col3\" class=\"data row0 col3\" >2.956056</td>\n            </tr>\n            <tr>\n                        <th id=\"T_871679de_90ae_11eb_bb78_f85971382ac4level0_row1\" class=\"row_heading level0 row1\" >VIMAX</th>\n                        <td id=\"T_871679de_90ae_11eb_bb78_f85971382ac4row1_col0\" class=\"data row1 col0\" >0.000702</td>\n                        <td id=\"T_871679de_90ae_11eb_bb78_f85971382ac4row1_col1\" class=\"data row1 col1\" >0.000024</td>\n                        <td id=\"T_871679de_90ae_11eb_bb78_f85971382ac4row1_col2\" class=\"data row1 col2\" >0.000311</td>\n                        <td id=\"T_871679de_90ae_11eb_bb78_f85971382ac4row1_col3\" class=\"data row1 col3\" >2.258311</td>\n            </tr>\n            <tr>\n                        <th id=\"T_871679de_90ae_11eb_bb78_f85971382ac4level0_row2\" class=\"row_heading level0 row2\" >AMZN</th>\n                        <td id=\"T_871679de_90ae_11eb_bb78_f85971382ac4row2_col0\" class=\"data row2 col0\" >0.001771</td>\n                        <td id=\"T_871679de_90ae_11eb_bb78_f85971382ac4row2_col1\" class=\"data row2 col1\" >0.000167</td>\n                        <td id=\"T_871679de_90ae_11eb_bb78_f85971382ac4row2_col2\" class=\"data row2 col2\" >0.000815</td>\n                        <td id=\"T_871679de_90ae_11eb_bb78_f85971382ac4row2_col3\" class=\"data row2 col3\" >2.173279</td>\n            </tr>\n            <tr>\n                        <th id=\"T_871679de_90ae_11eb_bb78_f85971382ac4level0_row3\" class=\"row_heading level0 row3\" >WMT</th>\n                        <td id=\"T_871679de_90ae_11eb_bb78_f85971382ac4row3_col0\" class=\"data row3 col0\" >0.001523</td>\n                        <td id=\"T_871679de_90ae_11eb_bb78_f85971382ac4row3_col1\" class=\"data row3 col1\" >0.000127</td>\n                        <td id=\"T_871679de_90ae_11eb_bb78_f85971382ac4row3_col2\" class=\"data row3 col2\" >0.000711</td>\n                        <td id=\"T_871679de_90ae_11eb_bb78_f85971382ac4row3_col3\" class=\"data row3 col3\" >2.142005</td>\n            </tr>\n            <tr>\n                        <th id=\"T_871679de_90ae_11eb_bb78_f85971382ac4level0_row4\" class=\"row_heading level0 row4\" >VSMAX</th>\n                        <td id=\"T_871679de_90ae_11eb_bb78_f85971382ac4row4_col0\" class=\"data row4 col0\" >0.000599</td>\n                        <td id=\"T_871679de_90ae_11eb_bb78_f85971382ac4row4_col1\" class=\"data row4 col1\" >0.000041</td>\n                        <td id=\"T_871679de_90ae_11eb_bb78_f85971382ac4row4_col2\" class=\"data row4 col2\" >0.000404</td>\n                        <td id=\"T_871679de_90ae_11eb_bb78_f85971382ac4row4_col3\" class=\"data row4 col3\" >1.483660</td>\n            </tr>\n            <tr>\n                        <th id=\"T_871679de_90ae_11eb_bb78_f85971382ac4level0_row5\" class=\"row_heading level0 row5\" >VBTLX</th>\n                        <td id=\"T_871679de_90ae_11eb_bb78_f85971382ac4row5_col0\" class=\"data row5 col0\" >0.000137</td>\n                        <td id=\"T_871679de_90ae_11eb_bb78_f85971382ac4row5_col1\" class=\"data row5 col1\" >0.000003</td>\n                        <td id=\"T_871679de_90ae_11eb_bb78_f85971382ac4row5_col2\" class=\"data row5 col2\" >0.000118</td>\n                        <td id=\"T_871679de_90ae_11eb_bb78_f85971382ac4row5_col3\" class=\"data row5 col3\" >1.166026</td>\n            </tr>\n            <tr>\n                        <th id=\"T_871679de_90ae_11eb_bb78_f85971382ac4level0_row6\" class=\"row_heading level0 row6\" >VGHCX</th>\n                        <td id=\"T_871679de_90ae_11eb_bb78_f85971382ac4row6_col0\" class=\"data row6 col0\" >0.000463</td>\n                        <td id=\"T_871679de_90ae_11eb_bb78_f85971382ac4row6_col1\" class=\"data row6 col1\" >0.000042</td>\n                        <td id=\"T_871679de_90ae_11eb_bb78_f85971382ac4row6_col2\" class=\"data row6 col2\" >0.000410</td>\n                        <td id=\"T_871679de_90ae_11eb_bb78_f85971382ac4row6_col3\" class=\"data row6 col3\" >1.127987</td>\n            </tr>\n            <tr>\n                        <th id=\"T_871679de_90ae_11eb_bb78_f85971382ac4level0_row7\" class=\"row_heading level0 row7\" >VGSLX</th>\n                        <td id=\"T_871679de_90ae_11eb_bb78_f85971382ac4row7_col0\" class=\"data row7 col0\" >0.000191</td>\n                        <td id=\"T_871679de_90ae_11eb_bb78_f85971382ac4row7_col1\" class=\"data row7 col1\" >0.000041</td>\n                        <td id=\"T_871679de_90ae_11eb_bb78_f85971382ac4row7_col2\" class=\"data row7 col2\" >0.000403</td>\n                        <td id=\"T_871679de_90ae_11eb_bb78_f85971382ac4row7_col3\" class=\"data row7 col3\" >0.474195</td>\n            </tr>\n            <tr>\n                        <th id=\"T_871679de_90ae_11eb_bb78_f85971382ac4level0_row8\" class=\"row_heading level0 row8\" >CVS</th>\n                        <td id=\"T_871679de_90ae_11eb_bb78_f85971382ac4row8_col0\" class=\"data row8 col0\" >-0.000236</td>\n                        <td id=\"T_871679de_90ae_11eb_bb78_f85971382ac4row8_col1\" class=\"data row8 col1\" >0.000190</td>\n                        <td id=\"T_871679de_90ae_11eb_bb78_f85971382ac4row8_col2\" class=\"data row8 col2\" >0.000869</td>\n                        <td id=\"T_871679de_90ae_11eb_bb78_f85971382ac4row8_col3\" class=\"data row8 col3\" >0.271606</td>\n            </tr>\n    </tbody></table>"
     },
     "metadata": {}
    },
    {
     "output_type": "display_data",
     "data": {
      "text/plain": "2018"
     },
     "metadata": {}
    },
    {
     "output_type": "display_data",
     "data": {
      "text/plain": "<pandas.io.formats.style.Styler at 0x290ecf0d088>",
      "text/html": "<style  type=\"text/css\" >\n</style><table id=\"T_87184e82_90ae_11eb_a9f1_f85971382ac4\" ><thead>    <tr>        <th class=\"blank level0\" ></th>        <th class=\"col_heading level0 col0\" >Expected Return</th>        <th class=\"col_heading level0 col1\" >Variance Estimator</th>        <th class=\"col_heading level0 col2\" >Std Dev Expected Return</th>        <th class=\"col_heading level0 col3\" >Signal to Noise</th>    </tr></thead><tbody>\n                <tr>\n                        <th id=\"T_87184e82_90ae_11eb_a9f1_f85971382ac4level0_row0\" class=\"row_heading level0 row0\" >AMZN</th>\n                        <td id=\"T_87184e82_90ae_11eb_a9f1_f85971382ac4row0_col0\" class=\"data row0 col0\" >0.000997</td>\n                        <td id=\"T_87184e82_90ae_11eb_a9f1_f85971382ac4row0_col1\" class=\"data row0 col1\" >0.000519</td>\n                        <td id=\"T_87184e82_90ae_11eb_a9f1_f85971382ac4row0_col2\" class=\"data row0 col2\" >0.001438</td>\n                        <td id=\"T_87184e82_90ae_11eb_a9f1_f85971382ac4row0_col3\" class=\"data row0 col3\" >0.693449</td>\n            </tr>\n            <tr>\n                        <th id=\"T_87184e82_90ae_11eb_a9f1_f85971382ac4level0_row1\" class=\"row_heading level0 row1\" >VIMAX</th>\n                        <td id=\"T_87184e82_90ae_11eb_a9f1_f85971382ac4row1_col0\" class=\"data row1 col0\" >-0.000386</td>\n                        <td id=\"T_87184e82_90ae_11eb_a9f1_f85971382ac4row1_col1\" class=\"data row1 col1\" >0.000105</td>\n                        <td id=\"T_87184e82_90ae_11eb_a9f1_f85971382ac4row1_col2\" class=\"data row1 col2\" >0.000648</td>\n                        <td id=\"T_87184e82_90ae_11eb_a9f1_f85971382ac4row1_col3\" class=\"data row1 col3\" >0.596259</td>\n            </tr>\n            <tr>\n                        <th id=\"T_87184e82_90ae_11eb_a9f1_f85971382ac4level0_row2\" class=\"row_heading level0 row2\" >VSMAX</th>\n                        <td id=\"T_87184e82_90ae_11eb_a9f1_f85971382ac4row2_col0\" class=\"data row2 col0\" >-0.000390</td>\n                        <td id=\"T_87184e82_90ae_11eb_a9f1_f85971382ac4row2_col1\" class=\"data row2 col1\" >0.000114</td>\n                        <td id=\"T_87184e82_90ae_11eb_a9f1_f85971382ac4row2_col2\" class=\"data row2 col2\" >0.000675</td>\n                        <td id=\"T_87184e82_90ae_11eb_a9f1_f85971382ac4row2_col3\" class=\"data row2 col3\" >0.577869</td>\n            </tr>\n            <tr>\n                        <th id=\"T_87184e82_90ae_11eb_a9f1_f85971382ac4level0_row3\" class=\"row_heading level0 row3\" >VGHCX</th>\n                        <td id=\"T_87184e82_90ae_11eb_a9f1_f85971382ac4row3_col0\" class=\"data row3 col0\" >-0.000258</td>\n                        <td id=\"T_87184e82_90ae_11eb_a9f1_f85971382ac4row3_col1\" class=\"data row3 col1\" >0.000114</td>\n                        <td id=\"T_87184e82_90ae_11eb_a9f1_f85971382ac4row3_col2\" class=\"data row3 col2\" >0.000673</td>\n                        <td id=\"T_87184e82_90ae_11eb_a9f1_f85971382ac4row3_col3\" class=\"data row3 col3\" >0.382527</td>\n            </tr>\n            <tr>\n                        <th id=\"T_87184e82_90ae_11eb_a9f1_f85971382ac4level0_row4\" class=\"row_heading level0 row4\" >VGSLX</th>\n                        <td id=\"T_87184e82_90ae_11eb_a9f1_f85971382ac4row4_col0\" class=\"data row4 col0\" >-0.000246</td>\n                        <td id=\"T_87184e82_90ae_11eb_a9f1_f85971382ac4row4_col1\" class=\"data row4 col1\" >0.000104</td>\n                        <td id=\"T_87184e82_90ae_11eb_a9f1_f85971382ac4row4_col2\" class=\"data row4 col2\" >0.000644</td>\n                        <td id=\"T_87184e82_90ae_11eb_a9f1_f85971382ac4row4_col3\" class=\"data row4 col3\" >0.381743</td>\n            </tr>\n            <tr>\n                        <th id=\"T_87184e82_90ae_11eb_a9f1_f85971382ac4level0_row5\" class=\"row_heading level0 row5\" >VFIAX</th>\n                        <td id=\"T_87184e82_90ae_11eb_a9f1_f85971382ac4row5_col0\" class=\"data row5 col0\" >-0.000181</td>\n                        <td id=\"T_87184e82_90ae_11eb_a9f1_f85971382ac4row5_col1\" class=\"data row5 col1\" >0.000116</td>\n                        <td id=\"T_87184e82_90ae_11eb_a9f1_f85971382ac4row5_col2\" class=\"data row5 col2\" >0.000680</td>\n                        <td id=\"T_87184e82_90ae_11eb_a9f1_f85971382ac4row5_col3\" class=\"data row5 col3\" >0.266585</td>\n            </tr>\n            <tr>\n                        <th id=\"T_87184e82_90ae_11eb_a9f1_f85971382ac4level0_row6\" class=\"row_heading level0 row6\" >CVS</th>\n                        <td id=\"T_87184e82_90ae_11eb_a9f1_f85971382ac4row6_col0\" class=\"data row6 col0\" >-0.000291</td>\n                        <td id=\"T_87184e82_90ae_11eb_a9f1_f85971382ac4row6_col1\" class=\"data row6 col1\" >0.000340</td>\n                        <td id=\"T_87184e82_90ae_11eb_a9f1_f85971382ac4row6_col2\" class=\"data row6 col2\" >0.001165</td>\n                        <td id=\"T_87184e82_90ae_11eb_a9f1_f85971382ac4row6_col3\" class=\"data row6 col3\" >0.249585</td>\n            </tr>\n            <tr>\n                        <th id=\"T_87184e82_90ae_11eb_a9f1_f85971382ac4level0_row7\" class=\"row_heading level0 row7\" >WMT</th>\n                        <td id=\"T_87184e82_90ae_11eb_a9f1_f85971382ac4row7_col0\" class=\"data row7 col0\" >-0.000139</td>\n                        <td id=\"T_87184e82_90ae_11eb_a9f1_f85971382ac4row7_col1\" class=\"data row7 col1\" >0.000230</td>\n                        <td id=\"T_87184e82_90ae_11eb_a9f1_f85971382ac4row7_col2\" class=\"data row7 col2\" >0.000958</td>\n                        <td id=\"T_87184e82_90ae_11eb_a9f1_f85971382ac4row7_col3\" class=\"data row7 col3\" >0.145263</td>\n            </tr>\n            <tr>\n                        <th id=\"T_87184e82_90ae_11eb_a9f1_f85971382ac4level0_row8\" class=\"row_heading level0 row8\" >VBTLX</th>\n                        <td id=\"T_87184e82_90ae_11eb_a9f1_f85971382ac4row8_col0\" class=\"data row8 col0\" >-0.000001</td>\n                        <td id=\"T_87184e82_90ae_11eb_a9f1_f85971382ac4row8_col1\" class=\"data row8 col1\" >0.000003</td>\n                        <td id=\"T_87184e82_90ae_11eb_a9f1_f85971382ac4row8_col2\" class=\"data row8 col2\" >0.000115</td>\n                        <td id=\"T_87184e82_90ae_11eb_a9f1_f85971382ac4row8_col3\" class=\"data row8 col3\" >0.011798</td>\n            </tr>\n    </tbody></table>"
     },
     "metadata": {}
    },
    {
     "output_type": "display_data",
     "data": {
      "text/plain": "2019"
     },
     "metadata": {}
    },
    {
     "output_type": "display_data",
     "data": {
      "text/plain": "<pandas.io.formats.style.Styler at 0x290ea31f748>",
      "text/html": "<style  type=\"text/css\" >\n</style><table id=\"T_8719d52c_90ae_11eb_9a7e_f85971382ac4\" ><thead>    <tr>        <th class=\"blank level0\" ></th>        <th class=\"col_heading level0 col0\" >Expected Return</th>        <th class=\"col_heading level0 col1\" >Variance Estimator</th>        <th class=\"col_heading level0 col2\" >Std Dev Expected Return</th>        <th class=\"col_heading level0 col3\" >Signal to Noise</th>    </tr></thead><tbody>\n                <tr>\n                        <th id=\"T_8719d52c_90ae_11eb_9a7e_f85971382ac4level0_row0\" class=\"row_heading level0 row0\" >VBTLX</th>\n                        <td id=\"T_8719d52c_90ae_11eb_9a7e_f85971382ac4row0_col0\" class=\"data row0 col0\" >0.000332</td>\n                        <td id=\"T_8719d52c_90ae_11eb_9a7e_f85971382ac4row0_col1\" class=\"data row0 col1\" >0.000005</td>\n                        <td id=\"T_8719d52c_90ae_11eb_9a7e_f85971382ac4row0_col2\" class=\"data row0 col2\" >0.000141</td>\n                        <td id=\"T_8719d52c_90ae_11eb_9a7e_f85971382ac4row0_col3\" class=\"data row0 col3\" >2.356403</td>\n            </tr>\n            <tr>\n                        <th id=\"T_8719d52c_90ae_11eb_9a7e_f85971382ac4level0_row1\" class=\"row_heading level0 row1\" >VFIAX</th>\n                        <td id=\"T_8719d52c_90ae_11eb_9a7e_f85971382ac4row1_col0\" class=\"data row1 col0\" >0.001085</td>\n                        <td id=\"T_8719d52c_90ae_11eb_9a7e_f85971382ac4row1_col1\" class=\"data row1 col1\" >0.000062</td>\n                        <td id=\"T_8719d52c_90ae_11eb_9a7e_f85971382ac4row1_col2\" class=\"data row1 col2\" >0.000495</td>\n                        <td id=\"T_8719d52c_90ae_11eb_9a7e_f85971382ac4row1_col3\" class=\"data row1 col3\" >2.191343</td>\n            </tr>\n            <tr>\n                        <th id=\"T_8719d52c_90ae_11eb_9a7e_f85971382ac4level0_row2\" class=\"row_heading level0 row2\" >VIMAX</th>\n                        <td id=\"T_8719d52c_90ae_11eb_9a7e_f85971382ac4row2_col0\" class=\"data row2 col0\" >0.001072</td>\n                        <td id=\"T_8719d52c_90ae_11eb_9a7e_f85971382ac4row2_col1\" class=\"data row2 col1\" >0.000065</td>\n                        <td id=\"T_8719d52c_90ae_11eb_9a7e_f85971382ac4row2_col2\" class=\"data row2 col2\" >0.000507</td>\n                        <td id=\"T_8719d52c_90ae_11eb_9a7e_f85971382ac4row2_col3\" class=\"data row2 col3\" >2.115788</td>\n            </tr>\n            <tr>\n                        <th id=\"T_8719d52c_90ae_11eb_9a7e_f85971382ac4level0_row3\" class=\"row_heading level0 row3\" >VGSLX</th>\n                        <td id=\"T_8719d52c_90ae_11eb_9a7e_f85971382ac4row3_col0\" class=\"data row3 col0\" >0.001007</td>\n                        <td id=\"T_8719d52c_90ae_11eb_9a7e_f85971382ac4row3_col1\" class=\"data row3 col1\" >0.000059</td>\n                        <td id=\"T_8719d52c_90ae_11eb_9a7e_f85971382ac4row3_col2\" class=\"data row3 col2\" >0.000485</td>\n                        <td id=\"T_8719d52c_90ae_11eb_9a7e_f85971382ac4row3_col3\" class=\"data row3 col3\" >2.078679</td>\n            </tr>\n            <tr>\n                        <th id=\"T_8719d52c_90ae_11eb_9a7e_f85971382ac4level0_row4\" class=\"row_heading level0 row4\" >WMT</th>\n                        <td id=\"T_8719d52c_90ae_11eb_9a7e_f85971382ac4row4_col0\" class=\"data row4 col0\" >0.001046</td>\n                        <td id=\"T_8719d52c_90ae_11eb_9a7e_f85971382ac4row4_col1\" class=\"data row4 col1\" >0.000081</td>\n                        <td id=\"T_8719d52c_90ae_11eb_9a7e_f85971382ac4row4_col2\" class=\"data row4 col2\" >0.000568</td>\n                        <td id=\"T_8719d52c_90ae_11eb_9a7e_f85971382ac4row4_col3\" class=\"data row4 col3\" >1.841993</td>\n            </tr>\n            <tr>\n                        <th id=\"T_8719d52c_90ae_11eb_9a7e_f85971382ac4level0_row5\" class=\"row_heading level0 row5\" >VSMAX</th>\n                        <td id=\"T_8719d52c_90ae_11eb_9a7e_f85971382ac4row5_col0\" class=\"data row5 col0\" >0.000960</td>\n                        <td id=\"T_8719d52c_90ae_11eb_9a7e_f85971382ac4row5_col1\" class=\"data row5 col1\" >0.000085</td>\n                        <td id=\"T_8719d52c_90ae_11eb_9a7e_f85971382ac4row5_col2\" class=\"data row5 col2\" >0.000582</td>\n                        <td id=\"T_8719d52c_90ae_11eb_9a7e_f85971382ac4row5_col3\" class=\"data row5 col3\" >1.650334</td>\n            </tr>\n            <tr>\n                        <th id=\"T_8719d52c_90ae_11eb_9a7e_f85971382ac4level0_row6\" class=\"row_heading level0 row6\" >AMZN</th>\n                        <td id=\"T_8719d52c_90ae_11eb_9a7e_f85971382ac4row6_col0\" class=\"data row6 col0\" >0.000822</td>\n                        <td id=\"T_8719d52c_90ae_11eb_9a7e_f85971382ac4row6_col1\" class=\"data row6 col1\" >0.000208</td>\n                        <td id=\"T_8719d52c_90ae_11eb_9a7e_f85971382ac4row6_col2\" class=\"data row6 col2\" >0.000909</td>\n                        <td id=\"T_8719d52c_90ae_11eb_9a7e_f85971382ac4row6_col3\" class=\"data row6 col3\" >0.904661</td>\n            </tr>\n            <tr>\n                        <th id=\"T_8719d52c_90ae_11eb_9a7e_f85971382ac4level0_row7\" class=\"row_heading level0 row7\" >VGHCX</th>\n                        <td id=\"T_8719d52c_90ae_11eb_9a7e_f85971382ac4row7_col0\" class=\"data row7 col0\" >0.000396</td>\n                        <td id=\"T_8719d52c_90ae_11eb_9a7e_f85971382ac4row7_col1\" class=\"data row7 col1\" >0.000094</td>\n                        <td id=\"T_8719d52c_90ae_11eb_9a7e_f85971382ac4row7_col2\" class=\"data row7 col2\" >0.000610</td>\n                        <td id=\"T_8719d52c_90ae_11eb_9a7e_f85971382ac4row7_col3\" class=\"data row7 col3\" >0.649815</td>\n            </tr>\n            <tr>\n                        <th id=\"T_8719d52c_90ae_11eb_9a7e_f85971382ac4level0_row8\" class=\"row_heading level0 row8\" >CVS</th>\n                        <td id=\"T_8719d52c_90ae_11eb_9a7e_f85971382ac4row8_col0\" class=\"data row8 col0\" >0.000632</td>\n                        <td id=\"T_8719d52c_90ae_11eb_9a7e_f85971382ac4row8_col1\" class=\"data row8 col1\" >0.000261</td>\n                        <td id=\"T_8719d52c_90ae_11eb_9a7e_f85971382ac4row8_col2\" class=\"data row8 col2\" >0.001018</td>\n                        <td id=\"T_8719d52c_90ae_11eb_9a7e_f85971382ac4row8_col3\" class=\"data row8 col3\" >0.620537</td>\n            </tr>\n    </tbody></table>"
     },
     "metadata": {}
    },
    {
     "output_type": "display_data",
     "data": {
      "text/plain": "2020"
     },
     "metadata": {}
    },
    {
     "output_type": "display_data",
     "data": {
      "text/plain": "<pandas.io.formats.style.Styler at 0x290ecf4ce48>",
      "text/html": "<style  type=\"text/css\" >\n</style><table id=\"T_871f7000_90ae_11eb_b738_f85971382ac4\" ><thead>    <tr>        <th class=\"blank level0\" ></th>        <th class=\"col_heading level0 col0\" >Expected Return</th>        <th class=\"col_heading level0 col1\" >Variance Estimator</th>        <th class=\"col_heading level0 col2\" >Std Dev Expected Return</th>        <th class=\"col_heading level0 col3\" >Signal to Noise</th>    </tr></thead><tbody>\n                <tr>\n                        <th id=\"T_871f7000_90ae_11eb_b738_f85971382ac4level0_row0\" class=\"row_heading level0 row0\" >VBTLX</th>\n                        <td id=\"T_871f7000_90ae_11eb_b738_f85971382ac4row0_col0\" class=\"data row0 col0\" >0.000288</td>\n                        <td id=\"T_871f7000_90ae_11eb_b738_f85971382ac4row0_col1\" class=\"data row0 col1\" >0.000010</td>\n                        <td id=\"T_871f7000_90ae_11eb_b738_f85971382ac4row0_col2\" class=\"data row0 col2\" >0.000195</td>\n                        <td id=\"T_871f7000_90ae_11eb_b738_f85971382ac4row0_col3\" class=\"data row0 col3\" >1.475302</td>\n            </tr>\n            <tr>\n                        <th id=\"T_871f7000_90ae_11eb_b738_f85971382ac4level0_row1\" class=\"row_heading level0 row1\" >AMZN</th>\n                        <td id=\"T_871f7000_90ae_11eb_b738_f85971382ac4row1_col0\" class=\"data row1 col0\" >0.002240</td>\n                        <td id=\"T_871f7000_90ae_11eb_b738_f85971382ac4row1_col1\" class=\"data row1 col1\" >0.000586</td>\n                        <td id=\"T_871f7000_90ae_11eb_b738_f85971382ac4row1_col2\" class=\"data row1 col2\" >0.001521</td>\n                        <td id=\"T_871f7000_90ae_11eb_b738_f85971382ac4row1_col3\" class=\"data row1 col3\" >1.472461</td>\n            </tr>\n            <tr>\n                        <th id=\"T_871f7000_90ae_11eb_b738_f85971382ac4level0_row2\" class=\"row_heading level0 row2\" >WMT</th>\n                        <td id=\"T_871f7000_90ae_11eb_b738_f85971382ac4row2_col0\" class=\"data row2 col0\" >0.000829</td>\n                        <td id=\"T_871f7000_90ae_11eb_b738_f85971382ac4row2_col1\" class=\"data row2 col1\" >0.000385</td>\n                        <td id=\"T_871f7000_90ae_11eb_b738_f85971382ac4row2_col2\" class=\"data row2 col2\" >0.001234</td>\n                        <td id=\"T_871f7000_90ae_11eb_b738_f85971382ac4row2_col3\" class=\"data row2 col3\" >0.671497</td>\n            </tr>\n            <tr>\n                        <th id=\"T_871f7000_90ae_11eb_b738_f85971382ac4level0_row3\" class=\"row_heading level0 row3\" >VFIAX</th>\n                        <td id=\"T_871f7000_90ae_11eb_b738_f85971382ac4row3_col0\" class=\"data row3 col0\" >0.000665</td>\n                        <td id=\"T_871f7000_90ae_11eb_b738_f85971382ac4row3_col1\" class=\"data row3 col1\" >0.000477</td>\n                        <td id=\"T_871f7000_90ae_11eb_b738_f85971382ac4row3_col2\" class=\"data row3 col2\" >0.001374</td>\n                        <td id=\"T_871f7000_90ae_11eb_b738_f85971382ac4row3_col3\" class=\"data row3 col3\" >0.483936</td>\n            </tr>\n            <tr>\n                        <th id=\"T_871f7000_90ae_11eb_b738_f85971382ac4level0_row4\" class=\"row_heading level0 row4\" >VIMAX</th>\n                        <td id=\"T_871f7000_90ae_11eb_b738_f85971382ac4row4_col0\" class=\"data row4 col0\" >0.000660</td>\n                        <td id=\"T_871f7000_90ae_11eb_b738_f85971382ac4row4_col1\" class=\"data row4 col1\" >0.000535</td>\n                        <td id=\"T_871f7000_90ae_11eb_b738_f85971382ac4row4_col2\" class=\"data row4 col2\" >0.001454</td>\n                        <td id=\"T_871f7000_90ae_11eb_b738_f85971382ac4row4_col3\" class=\"data row4 col3\" >0.454088</td>\n            </tr>\n            <tr>\n                        <th id=\"T_871f7000_90ae_11eb_b738_f85971382ac4level0_row5\" class=\"row_heading level0 row5\" >VSMAX</th>\n                        <td id=\"T_871f7000_90ae_11eb_b738_f85971382ac4row5_col0\" class=\"data row5 col0\" >0.000690</td>\n                        <td id=\"T_871f7000_90ae_11eb_b738_f85971382ac4row5_col1\" class=\"data row5 col1\" >0.000650</td>\n                        <td id=\"T_871f7000_90ae_11eb_b738_f85971382ac4row5_col2\" class=\"data row5 col2\" >0.001602</td>\n                        <td id=\"T_871f7000_90ae_11eb_b738_f85971382ac4row5_col3\" class=\"data row5 col3\" >0.430377</td>\n            </tr>\n            <tr>\n                        <th id=\"T_871f7000_90ae_11eb_b738_f85971382ac4level0_row6\" class=\"row_heading level0 row6\" >VGHCX</th>\n                        <td id=\"T_871f7000_90ae_11eb_b738_f85971382ac4row6_col0\" class=\"data row6 col0\" >0.000173</td>\n                        <td id=\"T_871f7000_90ae_11eb_b738_f85971382ac4row6_col1\" class=\"data row6 col1\" >0.000323</td>\n                        <td id=\"T_871f7000_90ae_11eb_b738_f85971382ac4row6_col2\" class=\"data row6 col2\" >0.001130</td>\n                        <td id=\"T_871f7000_90ae_11eb_b738_f85971382ac4row6_col3\" class=\"data row6 col3\" >0.153230</td>\n            </tr>\n            <tr>\n                        <th id=\"T_871f7000_90ae_11eb_b738_f85971382ac4level0_row7\" class=\"row_heading level0 row7\" >CVS</th>\n                        <td id=\"T_871f7000_90ae_11eb_b738_f85971382ac4row7_col0\" class=\"data row7 col0\" >-0.000209</td>\n                        <td id=\"T_871f7000_90ae_11eb_b738_f85971382ac4row7_col1\" class=\"data row7 col1\" >0.000625</td>\n                        <td id=\"T_871f7000_90ae_11eb_b738_f85971382ac4row7_col2\" class=\"data row7 col2\" >0.001571</td>\n                        <td id=\"T_871f7000_90ae_11eb_b738_f85971382ac4row7_col3\" class=\"data row7 col3\" >0.132763</td>\n            </tr>\n            <tr>\n                        <th id=\"T_871f7000_90ae_11eb_b738_f85971382ac4level0_row8\" class=\"row_heading level0 row8\" >VGSLX</th>\n                        <td id=\"T_871f7000_90ae_11eb_b738_f85971382ac4row8_col0\" class=\"data row8 col0\" >-0.000192</td>\n                        <td id=\"T_871f7000_90ae_11eb_b738_f85971382ac4row8_col1\" class=\"data row8 col1\" >0.000744</td>\n                        <td id=\"T_871f7000_90ae_11eb_b738_f85971382ac4row8_col2\" class=\"data row8 col2\" >0.001715</td>\n                        <td id=\"T_871f7000_90ae_11eb_b738_f85971382ac4row8_col3\" class=\"data row8 col3\" >0.112109</td>\n            </tr>\n    </tbody></table>"
     },
     "metadata": {}
    }
   ],
   "source": [
    "logReturns = dailyReturn[dailyReturn.columns[1:]].applymap(math.log1p)\n",
    "logReturns.insert(0,'Date',dailyReturn[dailyReturn.columns[0]])\n",
    "\n",
    "logReturnsOverTimeSpan = splitInToYears(logReturns)\n",
    "\n",
    "estimators = calculateEstimators(logReturnsOverTimeSpan)\n",
    "\n",
    "for years_after_2016, estimator in enumerate(estimators):\n",
    "    display(2016 + years_after_2016, estimator.sort_values(by='Signal to Noise', axis=0, ascending=False).style)"
   ]
  },
  {
   "source": [
    "## 2016:\n",
    "\n",
    "AMZN and VSMAX: Remained in the same position as in the previous exercise.\n",
    "\n",
    "CVS and VGHCX: These have higher confidence because all of our assets had the following relationshipE(log(1 + R)) were less than or equal to the expected returns. However CVS and VGHCX in particular had negative average returns. So this influenced the calculation for the other estimators which factor into the signal to noise calculation. Additionally we took the absolute value of signal to noise so that we could perform a better analysis of the data.\n",
    "\n",
    "## 2017:\n",
    "\n",
    "VGHCX and VBTLX: These two assets switch positions in terms of ordering for the signal to noise. The predominant reason behind this is that Log(1 + R) lowered the expected returns for VBTLX, while not impacting the variance or the std dev, thus lowering the confidence in the estimator. Furthermore the estimators were particularly small for VBTLX which is why the difference changed the ordering.\n",
    "\n",
    "All other assets maintained the same position as the previous exercise.\n",
    "\n",
    "\n",
    "## 2018:\n",
    "\n",
    "VGHCX and VGSLX: These two assets switch positions in terms of ordering for the signal to noise. The difference between these two assets is small in terms of signal to noise, so small differences in expected returns, variance, and std dev can change the ordering.\n",
    "\n",
    "All other assets maintained the same position as the previous exercise.\n",
    "\n",
    "## 2019:\n",
    "\n",
    "VGHCX and CVS: These two assets switch positions in terms of ordering for the signal to noise. \n",
    "\n",
    "All other assets maintained the same position as the previous exercise.\n",
    "\n",
    "## 2020:\n",
    "\n",
    "AMZN VBTLX These two assets switch positions in terms of ordering for the signal to noise.  \n",
    "\n",
    "VGSLX  CVS These two assets switch positions in terms of ordering for the signal to noise. \n",
    "\n",
    "WMT VFIAX VIMAX VSMAX VGHCX  all remained the same \n"
   ],
   "cell_type": "markdown",
   "metadata": {}
  },
  {
   "source": [
    "## Exercise 3"
   ],
   "cell_type": "markdown",
   "metadata": {}
  },
  {
   "source": [
    "For the context of this problem R is the daily returns.\n",
    "\n",
    "We see that the $E[R]$ is greater than $E[log(1 + R)]$. However when we calculate $log(1 + E[R])$ we see that they are less than $E[log(1 + R)]$. This relationship is due to Jensen’s inequality which states that given a convex/ (concave) function g it satisfies the following inequality: $g(E[x]) \\leq E[g(x)]$\n"
   ],
   "cell_type": "markdown",
   "metadata": {}
  },
  {
   "cell_type": "markdown",
   "id": "boring-accused",
   "metadata": {},
   "source": []
  }
 ],
 "metadata": {
  "kernelspec": {
   "display_name": "Python 3",
   "language": "python",
   "name": "python3"
  },
  "language_info": {
   "codemirror_mode": {
    "name": "ipython",
    "version": 3
   },
   "file_extension": ".py",
   "mimetype": "text/x-python",
   "name": "python",
   "nbconvert_exporter": "python",
   "pygments_lexer": "ipython3",
   "version": "3.7.6-final"
  }
 },
 "nbformat": 4,
 "nbformat_minor": 5
}
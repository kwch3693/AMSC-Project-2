{
 "cells": [
  {
   "cell_type": "code",
   "execution_count": 1,
   "id": "living-pizza",
   "metadata": {},
   "outputs": [],
   "source": [
    "#!/usr/bin/env python\n",
    "\n",
    "import numpy as np\n",
    "import pandas as pd\n",
    "import datetime as dt\n"
   ]
  },
  {
   "cell_type": "code",
   "execution_count": 2,
   "id": "bulgarian-elimination",
   "metadata": {},
   "outputs": [],
   "source": [
    "def splitInToYears(df):\n",
    "    cols = df.columns\n",
    "    \n",
    "    df2016 = pd.DataFrame(columns = cols)\n",
    "    df2017 = pd.DataFrame(columns = cols)\n",
    "    df2018 = pd.DataFrame(columns = cols)\n",
    "    df2019 = pd.DataFrame(columns = cols)\n",
    "    df2020 = pd.DataFrame(columns = cols)\n",
    "\n",
    "    for index, row in df.iterrows():\n",
    "        if dt.datetime.strptime(df['Date'][index],'%Y-%m-%d').year == 2016:\n",
    "            df2016 = df2016.append(row,ignore_index=True)\n",
    "        if dt.datetime.strptime(df['Date'][index],'%Y-%m-%d').year == 2017:\n",
    "            df2017 = df2017.append(row,ignore_index=True)\n",
    "        if dt.datetime.strptime(df['Date'][index],'%Y-%m-%d').year == 2018:\n",
    "            df2018 = df2018.append(row,ignore_index=True)\n",
    "        if dt.datetime.strptime(df['Date'][index],'%Y-%m-%d').year == 2019:\n",
    "            df2019 = df2019.append(row,ignore_index=True)\n",
    "        if dt.datetime.strptime(df['Date'][index],'%Y-%m-%d').year == 2020:\n",
    "            df2020 = df2020.append(row,ignore_index=True)\n",
    "    return [df2016, df2017,df2018, df2019,df2020]"
   ]
  },
  {
   "cell_type": "code",
   "execution_count": 3,
   "id": "hydraulic-notice",
   "metadata": {},
   "outputs": [],
   "source": [
    "\n",
    "## --- Data Wrangling ---\n",
    "\n",
    "# Group A\n",
    "VFIAX = pd.read_csv(\"Data/VFIAX.csv\")\n",
    "VFIAX.columns = ['Date','Open','High','Low','Close','VFIAX Close','Volume']\n",
    "VBTLX = pd.read_csv(\"Data/VBTLX.csv\")\n",
    "VBTLX.columns = ['Date','Open','High','Low','Close','VBTLX Close','Volume']\n",
    "VGSLX = pd.read_csv(\"Data/VGSLX.csv\")\n",
    "VGSLX.columns = ['Date','Open','High','Low','Close','VGSLX Close','Volume']\n",
    "\n",
    "# Group B\n",
    "VIMAX = pd.read_csv(\"Data/VIMAX.csv\")\n",
    "VIMAX.columns = ['Date','Open','High','Low','Close','VIMAX Close','Volume']\n",
    "VSMAX = pd.read_csv(\"Data/VSMAX.csv\")\n",
    "VSMAX.columns = ['Date','Open','High','Low','Close','VSMAX Close','Volume']\n",
    "VGHCX = pd.read_csv(\"Data/VGHCX.csv\")\n",
    "VGHCX.columns = ['Date','Open','High','Low','Close','VGHCX Close','Volume']\n",
    "\n",
    "# Group C\n",
    "AMZN = pd.read_csv(\"Data/AMZN.csv\")\n",
    "AMZN.columns = ['Date','Open','High','Low','Close','AMZN Close','Volume']\n",
    "WMT = pd.read_csv(\"Data/WMT.csv\")\n",
    "WMT.columns = ['Date','Open','High','Low','Close','WMT Close','Volume']\n",
    "CVS = pd.read_csv(\"Data/CVS.csv\")\n",
    "CVS.columns = ['Date','Open','High','Low','Close','CVS Close','Volume']\n"
   ]
  },
  {
   "cell_type": "code",
   "execution_count": 27,
   "id": "cordless-english",
   "metadata": {},
   "outputs": [],
   "source": [
    "\n",
    "## --- Assemble -- code into a dataframe for Close of Day ---\n",
    "\n",
    "close = pd.concat([VFIAX['Date'], VFIAX['VFIAX Close'], VBTLX['VBTLX Close'], VGSLX['VGSLX Close'], VIMAX['VIMAX Close'], VSMAX['VSMAX Close'], VGHCX['VGHCX Close'], AMZN['AMZN Close'], WMT['WMT Close'], CVS['CVS Close'] ], axis=1)\n",
    "#print(close)\n",
    "\n",
    "## --- generate mean daily return ---\n",
    "\n",
    "dailyReturn = pd.DataFrame(columns = ['Date', 'VFIAX Daily Return','VBTLX Daily Return','VGSLX Daily Return', 'VIMAX Daily Return', 'VSMAX Daily Return', 'VGHCX Daily Return','AMZN Daily Return', 'WMT Daily Return','CVS Daily Return'])\n",
    "for index, row in close.iterrows():\n",
    "    if index == 0: continue\n",
    "    #print((close['VFIAX Close'][index] - close['VFIAX Close'][index-1])/ (close['VFIAX Close'][index-1]))\n",
    "    dailyReturn = dailyReturn.append({'Date': close['Date'][index],\n",
    "                'VFIAX Daily Return': ((close['VFIAX Close'][index] - close['VFIAX Close'][index-1])/(close['VFIAX Close'][index-1])),\n",
    "                'VBTLX Daily Return': ((close['VBTLX Close'][index] - close['VBTLX Close'][index-1])/(close['VBTLX Close'][index-1])),\n",
    "                'VGSLX Daily Return': ((close['VGSLX Close'][index] - close['VGSLX Close'][index-1])/(close['VGSLX Close'][index-1])),\n",
    "                'VIMAX Daily Return': ((close['VIMAX Close'][index] - close['VIMAX Close'][index-1])/(close['VIMAX Close'][index-1])),\n",
    "                'VSMAX Daily Return': ((close['VSMAX Close'][index] - close['VSMAX Close'][index-1])/(close['VSMAX Close'][index-1])),\n",
    "                'VGHCX Daily Return': ((close['VGHCX Close'][index] - close['VGHCX Close'][index-1])/(close['VGHCX Close'][index-1])),\n",
    "                'AMZN Daily Return': ((close['AMZN Close'][index] - close['AMZN Close'][index-1])/(close['AMZN Close'][index-1])),\n",
    "                'WMT Daily Return': ((close['WMT Close'][index] - close['WMT Close'][index-1])/(close['WMT Close'][index-1])),\n",
    "                'CVS Daily Return': ((close['CVS Close'][index] - close['CVS Close'][index-1])/(close['CVS Close'][index-1]))},ignore_index=True)\n",
    "\n"
   ]
  },
  {
   "cell_type": "code",
   "execution_count": 28,
   "id": "noted-sunrise",
   "metadata": {},
   "outputs": [],
   "source": [
    "dailyReturnsOverTimespan = splitInToYears(dailyReturn)"
   ]
  },
  {
   "cell_type": "code",
   "execution_count": 29,
   "id": "cordless-interview",
   "metadata": {},
   "outputs": [],
   "source": [
    "## --- Estimator dataframes ---\n",
    "# returns array of dataframes split by year in accending order\n",
    "def calculateEstimators(dataframes):\n",
    "    estimators = []\n",
    "    assets = ['VFIAX', 'VBTLX', 'VGSLX', 'VIMAX', 'VSMAX', 'VGHCX', 'AMZN', 'WMT', 'CVS']\n",
    "    for df in dataframes:\n",
    "        data = df[df.columns[1:]]\n",
    "        uniformWeights = 1/data.shape[0]\n",
    "        \n",
    "        wBar = np.sum(np.square(np.ones(data.shape[0]) * uniformWeights))\n",
    "        \n",
    "        mean = np.array(np.sum(data, axis=0) * uniformWeights).reshape(-1,1)\n",
    "        difference = np.subtract(data , np.matmul(mean,np.ones((data.shape[0],1)).transpose()).transpose())\n",
    "        variance =  np.array(1/(1 - wBar) * np.sum(uniformWeights * np.square(difference), axis = 0)).reshape(-1,1)\n",
    "        StdOfExpectedValue = np.array(np.sqrt(wBar) * np.sqrt(variance)).reshape(-1,1)\n",
    "        \n",
    "        signalToNoise = np.array(mean/StdOfExpectedValue).reshape(-1,1)\n",
    "        estimator = pd.DataFrame({\n",
    "                    'Expected Return': mean.reshape(-1,),\n",
    "                    'Variance Estimator': variance.reshape(-1,),\n",
    "                    'Standard Dev of Expected Return': StdOfExpectedValue.reshape(-1,),\n",
    "                    'Signal to Noise': signalToNoise.reshape(-1,)},\n",
    "                    index=assets)\n",
    "        estimators.append(estimator)\n",
    "    return estimators  \n",
    "# print(ExpectedReturn)\n"
   ]
  },
  {
   "cell_type": "code",
   "execution_count": 30,
   "id": "integral-premiere",
   "metadata": {},
   "outputs": [],
   "source": [
    "\n",
    "estimators = calculateEstimators(dailyReturnsOverTimespan)\n"
   ]
  },
  {
   "cell_type": "code",
   "execution_count": 31,
   "id": "greater-virginia",
   "metadata": {},
   "outputs": [
    {
     "output_type": "stream",
     "name": "stdout",
     "text": [
      "\n2016\n        Expected Return  Variance Estimator  Standard Dev of Expected Return  \\\nVSMAX         0.000723            0.000112                         0.000666   \nVFIAX         0.000482            0.000068                         0.000520   \nWMT           0.000663            0.000147                         0.000764   \nVIMAX         0.000468            0.000092                         0.000605   \nVBTLX         0.000103            0.000005                         0.000142   \nVGSLX         0.000380            0.000115                         0.000676   \nAMZN          0.000586            0.000350                         0.001179   \nCVS          -0.000682            0.000190                         0.000867   \nVGHCX        -0.000606            0.000111                         0.000664   \n\n       Signal to Noise  \nVSMAX         1.085166  \nVFIAX         0.926836  \nWMT           0.866886  \nVIMAX         0.773408  \nVBTLX         0.726289  \nVGSLX         0.562157  \nAMZN          0.497363  \nCVS          -0.786628  \nVGHCX        -0.912577  \n\n2017\n        Expected Return  Variance Estimator  Standard Dev of Expected Return  \\\nVFIAX         0.000794            0.000018                         0.000266   \nVIMAX         0.000714            0.000024                         0.000311   \nAMZN          0.001856            0.000174                         0.000834   \nWMT           0.001588            0.000132                         0.000724   \nVSMAX         0.000620            0.000041                         0.000404   \nVGHCX         0.000484            0.000042                         0.000409   \nVBTLX         0.000139            0.000003                         0.000118   \nVGSLX         0.000211            0.000041                         0.000403   \nCVS          -0.000142            0.000188                         0.000865   \n\n       Signal to Noise  \nVFIAX         2.990815  \nVIMAX         2.298355  \nAMZN          2.226893  \nWMT           2.193117  \nVSMAX         1.534995  \nVGHCX         1.183258  \nVBTLX         1.180622  \nVGSLX         0.524879  \nCVS          -0.164112  \n\n2018\n        Expected Return  Variance Estimator  Standard Dev of Expected Return  \\\nAMZN      1.255538e-03            0.000517                         0.001436   \nVBTLX     3.018343e-07            0.000003                         0.000115   \nWMT      -2.482504e-05            0.000228                         0.000954   \nCVS      -1.216537e-04            0.000337                         0.001159   \nVFIAX    -1.236112e-04            0.000116                         0.000679   \nVGHCX    -2.011099e-04            0.000112                         0.000669   \nVGSLX    -1.941401e-04            0.000104                         0.000643   \nVSMAX    -3.331022e-04            0.000114                         0.000673   \nVIMAX    -3.338606e-04            0.000105                         0.000646   \n\n       Signal to Noise  \nAMZN          0.874591  \nVBTLX         0.002617  \nWMT          -0.026029  \nCVS          -0.104945  \nVFIAX        -0.182170  \nVGHCX        -0.300567  \nVGSLX        -0.302116  \nVSMAX        -0.494679  \nVIMAX        -0.516644  \n\n2019\n        Expected Return  Variance Estimator  Standard Dev of Expected Return  \\\nVBTLX         0.000335            0.000005                         0.000141   \nVFIAX         0.001117            0.000062                         0.000495   \nVIMAX         0.001105            0.000065                         0.000506   \nVGSLX         0.001037            0.000059                         0.000484   \nWMT           0.001087            0.000082                         0.000570   \nVSMAX         0.001003            0.000085                         0.000581   \nAMZN          0.000926            0.000208                         0.000909   \nCVS           0.000762            0.000261                         0.001018   \nVGHCX         0.000443            0.000092                         0.000605   \n\n       Signal to Noise  \nVBTLX         2.373610  \nVFIAX         2.257628  \nVIMAX         2.183200  \nVGSLX         2.142270  \nWMT           1.906907  \nVSMAX         1.725868  \nAMZN          1.019067  \nCVS           0.748512  \nVGHCX         0.731791  \n\n2020\n        Expected Return  Variance Estimator  Standard Dev of Expected Return  \\\nAMZN          0.002535            0.000589                         0.001525   \nVBTLX         0.000293            0.000010                         0.000195   \nWMT           0.001022            0.000394                         0.001247   \nVFIAX         0.000902            0.000470                         0.001364   \nVIMAX         0.000925            0.000524                         0.001439   \nVSMAX         0.001010            0.000631                         0.001579   \nVGHCX         0.000334            0.000320                         0.001124   \nVGSLX         0.000173            0.000714                         0.001680   \nCVS           0.000101            0.000619                         0.001564   \n\n       Signal to Noise  \nAMZN          1.661972  \nVBTLX         1.502099  \nWMT           0.819413  \nVFIAX         0.661107  \nVIMAX         0.642574  \nVSMAX         0.639748  \nVGHCX         0.296806  \nVGSLX         0.102886  \nCVS           0.064797  \n"
     ]
    }
   ],
   "source": [
    "for years_after_2016, estimator in enumerate(estimators):\n",
    "    print('\\n' + str(2016 + years_after_2016) + '\\n', estimator.sort_values(by='Signal to Noise', axis=0, ascending=False))"
   ]
  },
  {
   "cell_type": "code",
   "execution_count": 32,
   "metadata": {},
   "outputs": [],
   "source": [
    "import math\n",
    "logReturns = dailyReturn[dailyReturn.columns[1:]].applymap(math.log1p)\n",
    "logReturns.insert(0,'Date',dailyReturn[dailyReturn.columns[0]])\n",
    "\n",
    "logReturnsOverTimeSpan = splitInToYears(logReturns)\n",
    "\n",
    "estimators = calculateEstimators(logReturnsOverTimeSpan)"
   ]
  },
  {
   "cell_type": "code",
   "execution_count": 33,
   "metadata": {},
   "outputs": [
    {
     "output_type": "stream",
     "name": "stdout",
     "text": [
      "\n2016\n        Expected Return  Variance Estimator  Standard Dev of Expected Return  \\\nVSMAX         0.000667            0.000112                         0.000667   \nVFIAX         0.000448            0.000068                         0.000520   \nWMT           0.000590            0.000145                         0.000758   \nVBTLX         0.000100            0.000005                         0.000142   \nVIMAX         0.000422            0.000093                         0.000607   \nVGSLX         0.000323            0.000116                         0.000677   \nAMZN          0.000412            0.000349                         0.001177   \nCVS          -0.000779            0.000197                         0.000884   \nVGHCX        -0.000661            0.000111                         0.000664   \n\n       Signal to Noise  \nVSMAX         0.999493  \nVFIAX         0.860266  \nWMT           0.778840  \nVBTLX         0.708404  \nVIMAX         0.695569  \nVGSLX         0.476212  \nAMZN          0.350242  \nCVS          -0.881306  \nVGHCX        -0.994955  \n\n2017\n        Expected Return  Variance Estimator  Standard Dev of Expected Return  \\\nVFIAX         0.000785            0.000018                         0.000266   \nVIMAX         0.000702            0.000024                         0.000311   \nAMZN          0.001771            0.000167                         0.000815   \nWMT           0.001523            0.000127                         0.000711   \nVSMAX         0.000599            0.000041                         0.000404   \nVBTLX         0.000137            0.000003                         0.000118   \nVGHCX         0.000463            0.000042                         0.000410   \nVGSLX         0.000191            0.000041                         0.000403   \nCVS          -0.000236            0.000190                         0.000869   \n\n       Signal to Noise  \nVFIAX         2.956056  \nVIMAX         2.258311  \nAMZN          2.173279  \nWMT           2.142005  \nVSMAX         1.483660  \nVBTLX         1.166026  \nVGHCX         1.127987  \nVGSLX         0.474195  \nCVS          -0.271606  \n\n2018\n        Expected Return  Variance Estimator  Standard Dev of Expected Return  \\\nAMZN          0.000997            0.000519                         0.001438   \nVBTLX        -0.000001            0.000003                         0.000115   \nWMT          -0.000139            0.000230                         0.000958   \nCVS          -0.000291            0.000340                         0.001165   \nVFIAX        -0.000181            0.000116                         0.000680   \nVGSLX        -0.000246            0.000104                         0.000644   \nVGHCX        -0.000258            0.000114                         0.000673   \nVSMAX        -0.000390            0.000114                         0.000675   \nVIMAX        -0.000386            0.000105                         0.000648   \n\n       Signal to Noise  \nAMZN          0.693449  \nVBTLX        -0.011798  \nWMT          -0.145263  \nCVS          -0.249585  \nVFIAX        -0.266585  \nVGSLX        -0.381743  \nVGHCX        -0.382527  \nVSMAX        -0.577869  \nVIMAX        -0.596259  \n\n2019\n        Expected Return  Variance Estimator  Standard Dev of Expected Return  \\\nVBTLX         0.000332            0.000005                         0.000141   \nVFIAX         0.001085            0.000062                         0.000495   \nVIMAX         0.001072            0.000065                         0.000507   \nVGSLX         0.001007            0.000059                         0.000485   \nWMT           0.001046            0.000081                         0.000568   \nVSMAX         0.000960            0.000085                         0.000582   \nAMZN          0.000822            0.000208                         0.000909   \nVGHCX         0.000396            0.000094                         0.000610   \nCVS           0.000632            0.000261                         0.001018   \n\n       Signal to Noise  \nVBTLX         2.356403  \nVFIAX         2.191343  \nVIMAX         2.115788  \nVGSLX         2.078679  \nWMT           1.841993  \nVSMAX         1.650334  \nAMZN          0.904661  \nVGHCX         0.649815  \nCVS           0.620537  \n\n2020\n        Expected Return  Variance Estimator  Standard Dev of Expected Return  \\\nVBTLX         0.000288            0.000010                         0.000195   \nAMZN          0.002240            0.000586                         0.001521   \nWMT           0.000829            0.000385                         0.001234   \nVFIAX         0.000665            0.000477                         0.001374   \nVIMAX         0.000660            0.000535                         0.001454   \nVSMAX         0.000690            0.000650                         0.001602   \nVGHCX         0.000173            0.000323                         0.001130   \nVGSLX        -0.000192            0.000744                         0.001715   \nCVS          -0.000209            0.000625                         0.001571   \n\n       Signal to Noise  \nVBTLX         1.475302  \nAMZN          1.472461  \nWMT           0.671497  \nVFIAX         0.483936  \nVIMAX         0.454088  \nVSMAX         0.430377  \nVGHCX         0.153230  \nVGSLX        -0.112109  \nCVS          -0.132763  \n"
     ]
    }
   ],
   "source": [
    "for years_after_2016, estimator in enumerate(estimators):\n",
    "    print('\\n' + str(2016+years_after_2016) + '\\n', estimator.sort_values(by='Signal to Noise', ascending=False))"
   ]
  },
  {
   "cell_type": "code",
   "execution_count": null,
   "id": "noted-tiffany",
   "metadata": {},
   "outputs": [],
   "source": [
    "# ## --- split into years 2015 to 2020 ---\n",
    "\n",
    "# ER2016 = pd.DataFrame(columns = ['Date', 'ER'])\n",
    "# ER2017 = pd.DataFrame(columns = ['Date', 'ER'])\n",
    "# ER2018 = pd.DataFrame(columns = ['Date', 'ER'])\n",
    "# ER2019 = pd.DataFrame(columns = ['Date', 'ER'])\n",
    "# ER2020 = pd.DataFrame(columns = ['Date', 'ER'])\n",
    "\n",
    "# for index, row in ExpectedReturn.iterrows():\n",
    "#     if dt.datetime.strptime(ExpectedReturn['Date'][index],'%Y-%m-%d').year == 2016:\n",
    "#         ER2016 = ER2016.append({'Date':ExpectedReturn['Date'][index],'ER':ExpectedReturn['ER'][index]},ignore_index=True)\n",
    "#     if dt.datetime.strptime(ExpectedReturn['Date'][index],'%Y-%m-%d').year == 2017:\n",
    "#         ER2017 = ER2017.append({'Date':ExpectedReturn['Date'][index],'ER':ExpectedReturn['ER'][index]},ignore_index=True)\n",
    "#     if dt.datetime.strptime(ExpectedReturn['Date'][index],'%Y-%m-%d').year == 2018:\n",
    "#         ER2018 = ER2018.append({'Date':ExpectedReturn['Date'][index],'ER':ExpectedReturn['ER'][index]},ignore_index=True)\n",
    "#     if dt.datetime.strptime(ExpectedReturn['Date'][index],'%Y-%m-%d').year == 2019:\n",
    "#         ER2019 = ER2019.append({'Date':ExpectedReturn['Date'][index],'ER':ExpectedReturn['ER'][index]},ignore_index=True)\n",
    "#     if dt.datetime.strptime(ExpectedReturn['Date'][index],'%Y-%m-%d').year == 2020:\n",
    "#         ER2020 = ER2020.append({'Date':ExpectedReturn['Date'][index],'ER':ExpectedReturn['ER'][index]},ignore_index=True)\n",
    "\n",
    "# print(\"2016: \")\n",
    "# print(ER2016)\n",
    "# print(\"2017: \")\n",
    "# print(ER2017)\n",
    "# print(\"2018: \")\n",
    "# print(ER2018)\n",
    "# print(\"2019: \")\n",
    "# print(ER2019)\n",
    "# print(\"2020: \")\n",
    "# print(ER2020)"
   ]
  },
  {
   "source": [],
   "cell_type": "markdown",
   "metadata": {}
  }
 ],
 "metadata": {
  "kernelspec": {
   "display_name": "Python 3",
   "language": "python",
   "name": "python3"
  },
  "language_info": {
   "codemirror_mode": {
    "name": "ipython",
    "version": 3
   },
   "file_extension": ".py",
   "mimetype": "text/x-python",
   "name": "python",
   "nbconvert_exporter": "python",
   "pygments_lexer": "ipython3",
   "version": "3.7.6-final"
  }
 },
 "nbformat": 4,
 "nbformat_minor": 5
}
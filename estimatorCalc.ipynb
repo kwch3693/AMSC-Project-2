{
 "cells": [
  {
   "cell_type": "code",
   "execution_count": null,
   "id": "1b3fc3e3-175e-48a0-91a5-ac53387769d5",
   "metadata": {},
   "outputs": [],
   "source": [
    "def calculateSignalToNoiseForEstimators(expectedValue, stdDev, gamma):\n",
    "    return (expectedValue - gamma)/ stdDev\n",
    "    \n",
    "def getVarianceEstimators(f_vector, mean, Var, expectedValue, stdDev):\n",
    "\n",
    "    estimators = pd.DataFrame(columns = ['estimator name','estimator value', 'signal to Noise'])\n",
    "    gamma_q = np.transpose(mean) @ f_vector - (np.transpose(f_vector)@ (mean @ np.transpose(mean) + Var) @ f_vector) * (1/2)\n",
    "    gamma_p = np.transpose(mean) @ f_vector - (np.transpose(f_vector)@ (Var) @ f_vector) * (1/2)\n",
    "    gamma_t = np.log(1 + np.transpose(mean) @ f_vector) - (np.transpose(f_vector)@ (Var) @ f_vector) * (1/(2* np.square(1 + np.transpose(mean) @ f_vector)))\n",
    "    gamma_r = np.log(1 + np.transpose(mean) @ f_vector) - (np.transpose(f_vector)@ (Var) @ f_vector) * (1/2)\n",
    "    gamma_s = np.log(1 + np.transpose(mean) @ f_vector) - (np.transpose(f_vector)@ (Var) @ f_vector) * (1/(2* (1 + 2 * np.transpose(mean) @ f_vector)))\n",
    "    \n",
    "    estimators.loc[len(estimators.index)] = ['gamma q', gamma_q, calculateSignalToNoiseForEstimators(expectedValue, stdDev, gamma_q)] \n",
    "    estimators.loc[len(estimators.index)] = ['gamma p', gamma_p, calculateSignalToNoiseForEstimators(expectedValue, stdDev, gamma_p)] \n",
    "    estimators.loc[len(estimators.index)] = ['gamma t', gamma_t, calculateSignalToNoiseForEstimators(expectedValue, stdDev, gamma_t)] \n",
    "    estimators.loc[len(estimators.index)] = ['gamma r', gamma_r, calculateSignalToNoiseForEstimators(expectedValue, stdDev, gamma_r)] \n",
    "    estimators.loc[len(estimators.index)] = ['gamma s', gamma_s, calculateSignalToNoiseForEstimators(expectedValue, stdDev, gamma_s)] \n",
    "    return estimators"
   ]
  }
 ],
 "metadata": {
  "kernelspec": {
   "display_name": "Python 3",
   "language": "python",
   "name": "python3"
  },
  "language_info": {
   "codemirror_mode": {
    "name": "ipython",
    "version": 3
   },
   "file_extension": ".py",
   "mimetype": "text/x-python",
   "name": "python",
   "nbconvert_exporter": "python",
   "pygments_lexer": "ipython3",
   "version": "3.7.10"
  }
 },
 "nbformat": 4,
 "nbformat_minor": 5
}
